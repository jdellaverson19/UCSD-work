{
  "cells": [
    {
      "cell_type": "markdown",
      "metadata": {
        "id": "Yzr5Eo_qxHQi"
      },
      "source": [
        "# Mini Project: Build a Machine Learning Model"
      ]
    },
    {
      "cell_type": "markdown",
      "metadata": {
        "id": "_NvUsqw8xg26"
      },
      "source": [
        "## Predict Total Fare on the NYC Taxi Dataset\n",
        "\n",
        "Welcome to the NYC Taxi Fare Prediction project! In this Colab, we will continue using the NYC Taxi Dataset to predict the fare amount for taxi rides using a subset of available features. We will go through three main stages: building a baseline model, creating a full model, and performing hyperparameter tuning to enhance our predictions.\n",
        "\n",
        "Now that you've completed exploratory data analysis on this dataset you should have a good understanding of the feature space.\n",
        "\n",
        "## Project Objectives\n",
        "\n",
        "The primary objectives of this project are as follows:\n",
        "\n",
        "Baseline Model: We will start by building a simple baseline model to establish a benchmark for our predictions. This model will serve as a starting point to compare the performance of our subsequent models.\n",
        "\n",
        "Full Model: Next, we will develop a more comprehensive model that leverages machine learning techniques to improve prediction accuracy. We will use Scikit-Learn's model pipeline to build a framework that enables rapid experimentation.\n",
        "\n",
        "Hyperparameter Tuning: Lastly, we will optimize our full model by fine-tuning its hyperparameters. By systematically adjusting the parameters that control model behavior, we aim to achieve the best possible performance for our prediction task."
      ]
    },
    {
      "cell_type": "code",
      "execution_count": 1,
      "metadata": {
        "id": "lbJFWLELlI6N"
      },
      "outputs": [],
      "source": [
        "import pandas as pd\n",
        "import numpy as np\n",
        "import matplotlib.pyplot as plt\n",
        "from sklearn.model_selection import train_test_split, GridSearchCV\n",
        "from sklearn.metrics import mean_absolute_error\n",
        "\n",
        "from sklearn.pipeline import Pipeline\n",
        "from sklearn.preprocessing import StandardScaler, OneHotEncoder, FunctionTransformer\n",
        "from sklearn.compose import ColumnTransformer\n",
        "from sklearn.linear_model import LinearRegression\n",
        "from sklearn.ensemble import RandomForestRegressor"
      ]
    },
    {
      "cell_type": "markdown",
      "metadata": {
        "id": "gJtGZwwG2WTW"
      },
      "source": [
        "Load the NYC taxi dataset into a Pandas DataFrame and do a few basic checks to ensure the data is loaded properly. Note, there are several months of data that can be used. For simplicity, use the Yellow Taxi 2022-01 parquet file [here](https://d37ci6vzurychx.cloudfront.net/trip-data/yellow_tripdata_2022-01.parquet). Here are your tasks:\n",
        "\n",
        "  1. Load the `yellow_tripdata_2022-01.parquet` file into Pandas.\n",
        "  2. Print the first 5 rows of data.\n",
        "  3. Drop any rows of data that contain NULL values.\n",
        "  4. Create a new feature, 'trip_duration' that captures the duration of the trip in minutes.\n",
        "  5. Create a varible named 'target_variable' to store the name of the thing we're trying to predict, 'total_amount'.\n",
        "  6. Create a list called 'feature_cols' containing the feature names that we'll be using to predict our target variable. The list should contain 'VendorID', 'trip_distance', 'payment_type', 'PULocationID', 'DOLocationID', and 'trip_duration'."
      ]
    },
    {
      "cell_type": "code",
      "execution_count": 3,
      "metadata": {
        "id": "db--eb8zlNNg"
      },
      "outputs": [],
      "source": [
        "# Load the dataset into a pandas DataFrame (from https://www.nyc.gov/site/tlc/about/tlc-trip-record-data.page)\n",
        "url = 'https://d37ci6vzurychx.cloudfront.net/trip-data/yellow_tripdata_2022-01.parquet'\n",
        "parqdf = pd.read_parquet(url)"
      ]
    },
    {
      "cell_type": "code",
      "execution_count": 4,
      "metadata": {
        "id": "TslBuHoXl_o1"
      },
      "outputs": [
        {
          "name": "stdout",
          "output_type": "stream",
          "text": [
            "   VendorID tpep_pickup_datetime tpep_dropoff_datetime  passenger_count  \\\n",
            "0         1  2022-01-01 00:35:40   2022-01-01 00:53:29              2.0   \n",
            "1         1  2022-01-01 00:33:43   2022-01-01 00:42:07              1.0   \n",
            "2         2  2022-01-01 00:53:21   2022-01-01 01:02:19              1.0   \n",
            "3         2  2022-01-01 00:25:21   2022-01-01 00:35:23              1.0   \n",
            "4         2  2022-01-01 00:36:48   2022-01-01 01:14:20              1.0   \n",
            "\n",
            "   trip_distance  RatecodeID store_and_fwd_flag  PULocationID  DOLocationID  \\\n",
            "0           3.80         1.0                  N           142           236   \n",
            "1           2.10         1.0                  N           236            42   \n",
            "2           0.97         1.0                  N           166           166   \n",
            "3           1.09         1.0                  N           114            68   \n",
            "4           4.30         1.0                  N            68           163   \n",
            "\n",
            "   payment_type  fare_amount  extra  mta_tax  tip_amount  tolls_amount  \\\n",
            "0             1         14.5    3.0      0.5        3.65           0.0   \n",
            "1             1          8.0    0.5      0.5        4.00           0.0   \n",
            "2             1          7.5    0.5      0.5        1.76           0.0   \n",
            "3             2          8.0    0.5      0.5        0.00           0.0   \n",
            "4             1         23.5    0.5      0.5        3.00           0.0   \n",
            "\n",
            "   improvement_surcharge  total_amount  congestion_surcharge  airport_fee  \n",
            "0                    0.3         21.95                   2.5          0.0  \n",
            "1                    0.3         13.30                   0.0          0.0  \n",
            "2                    0.3         10.56                   0.0          0.0  \n",
            "3                    0.3         11.80                   2.5          0.0  \n",
            "4                    0.3         30.30                   2.5          0.0  \n"
          ]
        }
      ],
      "source": [
        "# Display the first few rows of the dataset\n",
        "print(parqdf.head())"
      ]
    },
    {
      "cell_type": "code",
      "execution_count": 5,
      "metadata": {
        "id": "4ybS7HV6HHQL"
      },
      "outputs": [],
      "source": [
        "# Drop rows with missing values.\n",
        "parqdf = parqdf.dropna(axis=0,how='any')"
      ]
    },
    {
      "cell_type": "code",
      "execution_count": 34,
      "metadata": {
        "id": "ZC4p9PEjnSm8"
      },
      "outputs": [],
      "source": [
        "# Create new feature, 'trip_duration'.\n",
        "#done in minutes\n",
        "parqdf['trip_duration'] = (parqdf['tpep_dropoff_datetime'] - parqdf['tpep_pickup_datetime']).dt.total_seconds().div(60).astype(float)"
      ]
    },
    {
      "cell_type": "code",
      "execution_count": 36,
      "metadata": {
        "id": "R5d84tINrG9d"
      },
      "outputs": [
        {
          "name": "stdout",
          "output_type": "stream",
          "text": [
            "['VendorID', 'trip_distance', 'payment_type', 'PULocationID', 'DOLocationID', 'trip_duration']\n"
          ]
        }
      ],
      "source": [
        "# Create a list called feature_col to store column names\n",
        "feature_col = list(parqdf[['VendorID', 'trip_distance', 'payment_type', 'PULocationID', 'DOLocationID', 'trip_duration']])\n",
        "print(feature_col)"
      ]
    },
    {
      "cell_type": "markdown",
      "metadata": {
        "id": "eq2kgevn51LY"
      },
      "source": [
        "Splitting a dataset into training and test sets is a crucial step in machine learning model development. It allows us to evaluate the performance and generalization ability of our models accurately. The training set is used to train the model, while the test set serves as an independent sample for evaluating its performance.\n",
        "\n",
        "1. **Model Training**: The training set is used to fit the model, allowing it to learn the underlying patterns and relationships between the features and the target variable. By exposing the model to a diverse range of examples in the training set, it can capture the underlying structure of the data.\n",
        "\n",
        "2. **Model Evaluation**: The test set, which is independent of the training set, is crucial for evaluating how well the trained model generalizes to unseen data. It provides an unbiased assessment of the model's performance on new instances. By measuring the model's accuracy, precision, recall, or other evaluation metrics on the test set, we can estimate how well the model will perform on unseen data.\n",
        "\n",
        "3. **Preventing Overfitting**: Overfitting occurs when a model learns the training data's noise and idiosyncrasies instead of the underlying patterns. By evaluating the model on the test set, we can identify if the model is overfitting. If the model performs significantly worse on the test set compared to the training set, it indicates overfitting. In such cases, we might need to adjust the model, feature selection, or regularization techniques to improve generalization.\n",
        "\n",
        "4. **Hyperparameter Tuning**: Splitting the dataset allows us to perform hyperparameter tuning on the model. Hyperparameters are configuration settings that control the learning process, such as learning rate, regularization strength, or the number of hidden layers in a neural network. By using a validation set (often created from a portion of the training set), we can iteratively adjust the hyperparameters and select the best combination that maximizes the model's performance on the validation set. The final evaluation on the test set provides an unbiased estimate of the model's performance.\n",
        "\n",
        "By splitting the dataset into training and test sets, we can ensure that our models are both well-trained and accurately evaluated. This separation helps us understand how the model will perform on new, unseen data, which is critical for assessing its effectiveness and making informed decisions about its deployment.\n",
        "\n",
        "Here is your task:\n",
        "\n",
        "  1. Use Scikit-Learn's [train_test_split](https://scikit-learn.org/stable/modules/generated/sklearn.model_selection.train_test_split.html) to split the data into training and test sets. Don't forget to set the random state."
      ]
    },
    {
      "cell_type": "code",
      "execution_count": 43,
      "metadata": {
        "id": "grdbA-I6rMGC"
      },
      "outputs": [],
      "source": [
        "# Split dataset into training and test sets\n",
        "from sklearn.model_selection import train_test_split\n",
        "y = parqdf['total_amount']\n",
        "#Calling the desired 'target_variable' 'y' for the sake of consistency with literature. \n",
        "\n",
        "X = parqdf[feature_col]\n",
        "X_train, X_test, y_train, y_test = train_test_split(X,y, test_size=.2, random_state=42)\n"
      ]
    },
    {
      "cell_type": "markdown",
      "metadata": {
        "id": "VIAhf_oA7PGx"
      },
      "source": [
        "The importance of a baseline model, even if it uses a simple strategy like always predicting the mean, cannot be understated. Here's why a baseline model is valuable:\n",
        "\n",
        "1. **Performance Comparison**: A baseline model serves as a reference point for evaluating the performance of more sophisticated models. By establishing a simple yet reasonable baseline, we can determine whether our advanced models offer any significant improvement over this basic approach. It helps us set realistic expectations and gauge the effectiveness of our efforts.\n",
        "\n",
        "2. **Model Complexity**: A baseline model provides insight into the complexity required to solve the prediction task. If a simple strategy like predicting the median performs reasonably well, it suggests that the problem might not necessitate complex modeling techniques. Conversely, if the baseline model performs poorly, it indicates the presence of more intricate patterns that need to be captured by more sophisticated models.\n",
        "\n",
        "3. **Minimum Performance Requirement**: A baseline model can establish a minimum performance requirement for a predictive task. If we cannot outperform the baseline, it suggests that our models have failed to capture even the most fundamental relationships within the data. In such cases, we may need to revisit our data preprocessing steps, feature engineering techniques, or consider other external factors affecting the task.\n",
        "\n",
        "4. **Identifying Data Issues**: A baseline model can help identify potential issues within the dataset. If the baseline model performs poorly, it may indicate problems like missing values, outliers, or data inconsistencies. These issues can be further investigated and resolved to improve the overall model performance.\n",
        "\n",
        "While a baseline model like always predicting the median may not offer the highest prediction accuracy, its importance lies in its role as a starting point for model development and evaluation. It provides a solid foundation for comparing and assessing the performance of more complex models, ensuring that any improvements made are meaningful and significant.\n",
        "\n",
        "Here is your task:\n",
        "\n",
        "  1. Create a model that always predicts the mean total fare of the training dataset. Use Scikit-Learn's [mean_absolute_error](https://scikit-learn.org/stable/modules/generated/sklearn.metrics.mean_absolute_error.html) to evaluate this model. Is it any good?"
      ]
    },
    {
      "cell_type": "code",
      "execution_count": 45,
      "metadata": {
        "id": "6vV1UsNTFX22"
      },
      "outputs": [
        {
          "name": "stdout",
          "output_type": "stream",
          "text": [
            "1298294    15.35\n",
            "469658     13.55\n",
            "1188324    14.80\n",
            "1508389    27.36\n",
            "824431     14.15\n",
            "Name: total_amount, dtype: float64\n",
            "9.198227928516678 15788499083957.738 229.99793871064168 6.7019635547994625\n"
          ]
        }
      ],
      "source": [
        "# Create a baseline for mean absolute error of total amount\n",
        "from sklearn.metrics import mean_absolute_error, mean_absolute_percentage_error,mean_squared_error,median_absolute_error\n",
        "\n",
        "predict = y_train.mean()\n",
        "preds = [predict] * len(y_test)\n",
        "print(y_test.head())\n",
        "test_list = y_test.tolist()\n",
        "mae = (mean_absolute_error(test_list, preds))\n",
        "\n",
        "#To check if this is good or bad we reference other error measures. The median and mean absolute errors are okay\n",
        "#but the absolute percentage error is atrocious. \n",
        "\n",
        "mape = mean_absolute_percentage_error(test_list, preds)\n",
        "mse = mean_squared_error(test_list, preds)\n",
        "med = median_absolute_error(test_list,preds)\n",
        "print(mae,mape,mse,med)\n",
        "\n"
      ]
    },
    {
      "cell_type": "markdown",
      "metadata": {
        "id": "sCKDGKpg8MVb"
      },
      "source": [
        "With a baseline metric in place, we can try to build a machine learning model. Obviously, if the model can't beat the baseline then there are some major issues to be resolved.\n",
        "\n",
        "It's always a good idea to start with a simple machine learning model, like linear regression, and build upon it if necessary.\n",
        "\n",
        "Here are your tasks:\n",
        "\n",
        "  1. Use Scikit-Learn's [ColumnTransformer](https://scikit-learn.org/stable/modules/generated/sklearn.compose.ColumnTransformer.html) to preprocess the categorical and continuous features independently. Apply the [StandardScaler](https://scikit-learn.org/stable/modules/generated/sklearn.preprocessing.StandardScaler.html) to the continuous columns and [OneHotEncoder](https://scikit-learn.org/stable/modules/generated/sklearn.preprocessing.OneHotEncoder.html) to the categorical columns.\n",
        "\n",
        "  One-hot encoding is a popular technique used to represent categorical variables numerically in machine learning models. It transforms categorical features into a binary vector representation, where each category is represented by a binary column. Here's an explanation of one-hot encoding:\n",
        "\n",
        "  When working with categorical variables, such as colors (e.g., red, blue, green) or vehicle types (e.g., car, truck, motorcycle), machine learning algorithms often require numerical inputs. However, directly assigning numerical values to categories can introduce unintended relationships or orderings between them. For example, assigning the values 0, 1, and 2 to the categories red, blue, and green may imply a sequential relationship, which is not desired.\n",
        "\n",
        "  One-hot encoding solves this problem by creating new binary columns, equal to the number of unique categories in the original feature. Each binary column represents a specific category and takes a value of 1 if the data point belongs to that category, and 0 otherwise. This encoding ensures that no implicit ordering or relationship exists between the categories.\n",
        "\n",
        "  2. Integrate the preprocessor in the previous step with Scikit-Learn's [LinearRegression](https://scikit-learn.org/stable/modules/generated/sklearn.linear_model.LinearRegression.html) model using a [Pipeline](https://scikit-learn.org/stable/modules/generated/sklearn.pipeline.Pipeline.html).\n",
        "\n",
        "  3. Train the pipeline on the training data.\n",
        "\n",
        "  4. Evaluate the model using mean absolute error as a metric on the test data. Does the model beat the baseline?\n"
      ]
    },
    {
      "cell_type": "code",
      "execution_count": 47,
      "metadata": {},
      "outputs": [
        {
          "name": "stdout",
          "output_type": "stream",
          "text": [
            "VendorID           int64\n",
            "trip_distance    float64\n",
            "payment_type       int64\n",
            "PULocationID       int64\n",
            "DOLocationID       int64\n",
            "trip_duration    float64\n",
            "dtype: object\n",
            "float64\n"
          ]
        }
      ],
      "source": [
        "print(X.dtypes)\n",
        "print(y.dtype)\n",
        "#Here for convenience when creating transformer"
      ]
    },
    {
      "cell_type": "code",
      "execution_count": 62,
      "metadata": {
        "id": "KckTWwsiah5p"
      },
      "outputs": [
        {
          "name": "stdout",
          "output_type": "stream",
          "text": [
            "['cat__VendorID_1' 'cat__VendorID_2' 'cat__payment_type_1'\n",
            " 'cat__payment_type_2' 'cat__payment_type_3' 'cat__payment_type_4'\n",
            " 'cat__payment_type_5' 'cat__PULocationID_1' 'cat__PULocationID_2'\n",
            " 'cat__PULocationID_3' 'cat__PULocationID_4' 'cat__PULocationID_5'\n",
            " 'cat__PULocationID_6' 'cat__PULocationID_7' 'cat__PULocationID_8'\n",
            " 'cat__PULocationID_9' 'cat__PULocationID_10' 'cat__PULocationID_11'\n",
            " 'cat__PULocationID_12' 'cat__PULocationID_13' 'cat__PULocationID_14'\n",
            " 'cat__PULocationID_15' 'cat__PULocationID_16' 'cat__PULocationID_17'\n",
            " 'cat__PULocationID_18' 'cat__PULocationID_19' 'cat__PULocationID_20'\n",
            " 'cat__PULocationID_21' 'cat__PULocationID_22' 'cat__PULocationID_23'\n",
            " 'cat__PULocationID_24' 'cat__PULocationID_25' 'cat__PULocationID_26'\n",
            " 'cat__PULocationID_27' 'cat__PULocationID_28' 'cat__PULocationID_29'\n",
            " 'cat__PULocationID_30' 'cat__PULocationID_31' 'cat__PULocationID_32'\n",
            " 'cat__PULocationID_33' 'cat__PULocationID_34' 'cat__PULocationID_35'\n",
            " 'cat__PULocationID_36' 'cat__PULocationID_37' 'cat__PULocationID_38'\n",
            " 'cat__PULocationID_39' 'cat__PULocationID_40' 'cat__PULocationID_41'\n",
            " 'cat__PULocationID_42' 'cat__PULocationID_43' 'cat__PULocationID_44'\n",
            " 'cat__PULocationID_45' 'cat__PULocationID_46' 'cat__PULocationID_47'\n",
            " 'cat__PULocationID_48' 'cat__PULocationID_49' 'cat__PULocationID_50'\n",
            " 'cat__PULocationID_51' 'cat__PULocationID_52' 'cat__PULocationID_53'\n",
            " 'cat__PULocationID_54' 'cat__PULocationID_55' 'cat__PULocationID_56'\n",
            " 'cat__PULocationID_57' 'cat__PULocationID_58' 'cat__PULocationID_59'\n",
            " 'cat__PULocationID_60' 'cat__PULocationID_61' 'cat__PULocationID_62'\n",
            " 'cat__PULocationID_63' 'cat__PULocationID_64' 'cat__PULocationID_65'\n",
            " 'cat__PULocationID_66' 'cat__PULocationID_67' 'cat__PULocationID_68'\n",
            " 'cat__PULocationID_69' 'cat__PULocationID_70' 'cat__PULocationID_71'\n",
            " 'cat__PULocationID_72' 'cat__PULocationID_73' 'cat__PULocationID_74'\n",
            " 'cat__PULocationID_75' 'cat__PULocationID_76' 'cat__PULocationID_77'\n",
            " 'cat__PULocationID_78' 'cat__PULocationID_79' 'cat__PULocationID_80'\n",
            " 'cat__PULocationID_81' 'cat__PULocationID_82' 'cat__PULocationID_83'\n",
            " 'cat__PULocationID_85' 'cat__PULocationID_86' 'cat__PULocationID_87'\n",
            " 'cat__PULocationID_88' 'cat__PULocationID_89' 'cat__PULocationID_90'\n",
            " 'cat__PULocationID_91' 'cat__PULocationID_92' 'cat__PULocationID_93'\n",
            " 'cat__PULocationID_94' 'cat__PULocationID_95' 'cat__PULocationID_96'\n",
            " 'cat__PULocationID_97' 'cat__PULocationID_98' 'cat__PULocationID_100'\n",
            " 'cat__PULocationID_101' 'cat__PULocationID_102' 'cat__PULocationID_105'\n",
            " 'cat__PULocationID_106' 'cat__PULocationID_107' 'cat__PULocationID_108'\n",
            " 'cat__PULocationID_109' 'cat__PULocationID_111' 'cat__PULocationID_112'\n",
            " 'cat__PULocationID_113' 'cat__PULocationID_114' 'cat__PULocationID_115'\n",
            " 'cat__PULocationID_116' 'cat__PULocationID_117' 'cat__PULocationID_118'\n",
            " 'cat__PULocationID_119' 'cat__PULocationID_120' 'cat__PULocationID_121'\n",
            " 'cat__PULocationID_122' 'cat__PULocationID_123' 'cat__PULocationID_124'\n",
            " 'cat__PULocationID_125' 'cat__PULocationID_126' 'cat__PULocationID_127'\n",
            " 'cat__PULocationID_128' 'cat__PULocationID_129' 'cat__PULocationID_130'\n",
            " 'cat__PULocationID_131' 'cat__PULocationID_132' 'cat__PULocationID_133'\n",
            " 'cat__PULocationID_134' 'cat__PULocationID_135' 'cat__PULocationID_136'\n",
            " 'cat__PULocationID_137' 'cat__PULocationID_138' 'cat__PULocationID_139'\n",
            " 'cat__PULocationID_140' 'cat__PULocationID_141' 'cat__PULocationID_142'\n",
            " 'cat__PULocationID_143' 'cat__PULocationID_144' 'cat__PULocationID_145'\n",
            " 'cat__PULocationID_146' 'cat__PULocationID_147' 'cat__PULocationID_148'\n",
            " 'cat__PULocationID_149' 'cat__PULocationID_150' 'cat__PULocationID_151'\n",
            " 'cat__PULocationID_152' 'cat__PULocationID_153' 'cat__PULocationID_154'\n",
            " 'cat__PULocationID_155' 'cat__PULocationID_156' 'cat__PULocationID_157'\n",
            " 'cat__PULocationID_158' 'cat__PULocationID_159' 'cat__PULocationID_160'\n",
            " 'cat__PULocationID_161' 'cat__PULocationID_162' 'cat__PULocationID_163'\n",
            " 'cat__PULocationID_164' 'cat__PULocationID_165' 'cat__PULocationID_166'\n",
            " 'cat__PULocationID_167' 'cat__PULocationID_168' 'cat__PULocationID_169'\n",
            " 'cat__PULocationID_170' 'cat__PULocationID_171' 'cat__PULocationID_172'\n",
            " 'cat__PULocationID_173' 'cat__PULocationID_174' 'cat__PULocationID_175'\n",
            " 'cat__PULocationID_176' 'cat__PULocationID_177' 'cat__PULocationID_178'\n",
            " 'cat__PULocationID_179' 'cat__PULocationID_180' 'cat__PULocationID_181'\n",
            " 'cat__PULocationID_182' 'cat__PULocationID_183' 'cat__PULocationID_184'\n",
            " 'cat__PULocationID_185' 'cat__PULocationID_186' 'cat__PULocationID_188'\n",
            " 'cat__PULocationID_189' 'cat__PULocationID_190' 'cat__PULocationID_191'\n",
            " 'cat__PULocationID_192' 'cat__PULocationID_193' 'cat__PULocationID_194'\n",
            " 'cat__PULocationID_195' 'cat__PULocationID_196' 'cat__PULocationID_197'\n",
            " 'cat__PULocationID_198' 'cat__PULocationID_200' 'cat__PULocationID_201'\n",
            " 'cat__PULocationID_202' 'cat__PULocationID_203' 'cat__PULocationID_205'\n",
            " 'cat__PULocationID_206' 'cat__PULocationID_207' 'cat__PULocationID_208'\n",
            " 'cat__PULocationID_209' 'cat__PULocationID_210' 'cat__PULocationID_211'\n",
            " 'cat__PULocationID_212' 'cat__PULocationID_213' 'cat__PULocationID_214'\n",
            " 'cat__PULocationID_215' 'cat__PULocationID_216' 'cat__PULocationID_217'\n",
            " 'cat__PULocationID_218' 'cat__PULocationID_219' 'cat__PULocationID_220'\n",
            " 'cat__PULocationID_221' 'cat__PULocationID_222' 'cat__PULocationID_223'\n",
            " 'cat__PULocationID_224' 'cat__PULocationID_225' 'cat__PULocationID_226'\n",
            " 'cat__PULocationID_227' 'cat__PULocationID_228' 'cat__PULocationID_229'\n",
            " 'cat__PULocationID_230' 'cat__PULocationID_231' 'cat__PULocationID_232'\n",
            " 'cat__PULocationID_233' 'cat__PULocationID_234' 'cat__PULocationID_235'\n",
            " 'cat__PULocationID_236' 'cat__PULocationID_237' 'cat__PULocationID_238'\n",
            " 'cat__PULocationID_239' 'cat__PULocationID_240' 'cat__PULocationID_241'\n",
            " 'cat__PULocationID_242' 'cat__PULocationID_243' 'cat__PULocationID_244'\n",
            " 'cat__PULocationID_245' 'cat__PULocationID_246' 'cat__PULocationID_247'\n",
            " 'cat__PULocationID_248' 'cat__PULocationID_249' 'cat__PULocationID_250'\n",
            " 'cat__PULocationID_252' 'cat__PULocationID_253' 'cat__PULocationID_254'\n",
            " 'cat__PULocationID_255' 'cat__PULocationID_256' 'cat__PULocationID_257'\n",
            " 'cat__PULocationID_258' 'cat__PULocationID_259' 'cat__PULocationID_260'\n",
            " 'cat__PULocationID_261' 'cat__PULocationID_262' 'cat__PULocationID_263'\n",
            " 'cat__PULocationID_264' 'cat__PULocationID_265' 'cat__DOLocationID_1'\n",
            " 'cat__DOLocationID_2' 'cat__DOLocationID_3' 'cat__DOLocationID_4'\n",
            " 'cat__DOLocationID_5' 'cat__DOLocationID_6' 'cat__DOLocationID_7'\n",
            " 'cat__DOLocationID_8' 'cat__DOLocationID_9' 'cat__DOLocationID_10'\n",
            " 'cat__DOLocationID_11' 'cat__DOLocationID_12' 'cat__DOLocationID_13'\n",
            " 'cat__DOLocationID_14' 'cat__DOLocationID_15' 'cat__DOLocationID_16'\n",
            " 'cat__DOLocationID_17' 'cat__DOLocationID_18' 'cat__DOLocationID_19'\n",
            " 'cat__DOLocationID_20' 'cat__DOLocationID_21' 'cat__DOLocationID_22'\n",
            " 'cat__DOLocationID_23' 'cat__DOLocationID_24' 'cat__DOLocationID_25'\n",
            " 'cat__DOLocationID_26' 'cat__DOLocationID_27' 'cat__DOLocationID_28'\n",
            " 'cat__DOLocationID_29' 'cat__DOLocationID_30' 'cat__DOLocationID_31'\n",
            " 'cat__DOLocationID_32' 'cat__DOLocationID_33' 'cat__DOLocationID_34'\n",
            " 'cat__DOLocationID_35' 'cat__DOLocationID_36' 'cat__DOLocationID_37'\n",
            " 'cat__DOLocationID_38' 'cat__DOLocationID_39' 'cat__DOLocationID_40'\n",
            " 'cat__DOLocationID_41' 'cat__DOLocationID_42' 'cat__DOLocationID_43'\n",
            " 'cat__DOLocationID_44' 'cat__DOLocationID_45' 'cat__DOLocationID_46'\n",
            " 'cat__DOLocationID_47' 'cat__DOLocationID_48' 'cat__DOLocationID_49'\n",
            " 'cat__DOLocationID_50' 'cat__DOLocationID_51' 'cat__DOLocationID_52'\n",
            " 'cat__DOLocationID_53' 'cat__DOLocationID_54' 'cat__DOLocationID_55'\n",
            " 'cat__DOLocationID_56' 'cat__DOLocationID_57' 'cat__DOLocationID_58'\n",
            " 'cat__DOLocationID_59' 'cat__DOLocationID_60' 'cat__DOLocationID_61'\n",
            " 'cat__DOLocationID_62' 'cat__DOLocationID_63' 'cat__DOLocationID_64'\n",
            " 'cat__DOLocationID_65' 'cat__DOLocationID_66' 'cat__DOLocationID_67'\n",
            " 'cat__DOLocationID_68' 'cat__DOLocationID_69' 'cat__DOLocationID_70'\n",
            " 'cat__DOLocationID_71' 'cat__DOLocationID_72' 'cat__DOLocationID_73'\n",
            " 'cat__DOLocationID_74' 'cat__DOLocationID_75' 'cat__DOLocationID_76'\n",
            " 'cat__DOLocationID_77' 'cat__DOLocationID_78' 'cat__DOLocationID_79'\n",
            " 'cat__DOLocationID_80' 'cat__DOLocationID_81' 'cat__DOLocationID_82'\n",
            " 'cat__DOLocationID_83' 'cat__DOLocationID_84' 'cat__DOLocationID_85'\n",
            " 'cat__DOLocationID_86' 'cat__DOLocationID_87' 'cat__DOLocationID_88'\n",
            " 'cat__DOLocationID_89' 'cat__DOLocationID_90' 'cat__DOLocationID_91'\n",
            " 'cat__DOLocationID_92' 'cat__DOLocationID_93' 'cat__DOLocationID_94'\n",
            " 'cat__DOLocationID_95' 'cat__DOLocationID_96' 'cat__DOLocationID_97'\n",
            " 'cat__DOLocationID_98' 'cat__DOLocationID_99' 'cat__DOLocationID_100'\n",
            " 'cat__DOLocationID_101' 'cat__DOLocationID_102' 'cat__DOLocationID_105'\n",
            " 'cat__DOLocationID_106' 'cat__DOLocationID_107' 'cat__DOLocationID_108'\n",
            " 'cat__DOLocationID_109' 'cat__DOLocationID_111' 'cat__DOLocationID_112'\n",
            " 'cat__DOLocationID_113' 'cat__DOLocationID_114' 'cat__DOLocationID_115'\n",
            " 'cat__DOLocationID_116' 'cat__DOLocationID_117' 'cat__DOLocationID_118'\n",
            " 'cat__DOLocationID_119' 'cat__DOLocationID_120' 'cat__DOLocationID_121'\n",
            " 'cat__DOLocationID_122' 'cat__DOLocationID_123' 'cat__DOLocationID_124'\n",
            " 'cat__DOLocationID_125' 'cat__DOLocationID_126' 'cat__DOLocationID_127'\n",
            " 'cat__DOLocationID_128' 'cat__DOLocationID_129' 'cat__DOLocationID_130'\n",
            " 'cat__DOLocationID_131' 'cat__DOLocationID_132' 'cat__DOLocationID_133'\n",
            " 'cat__DOLocationID_134' 'cat__DOLocationID_135' 'cat__DOLocationID_136'\n",
            " 'cat__DOLocationID_137' 'cat__DOLocationID_138' 'cat__DOLocationID_139'\n",
            " 'cat__DOLocationID_140' 'cat__DOLocationID_141' 'cat__DOLocationID_142'\n",
            " 'cat__DOLocationID_143' 'cat__DOLocationID_144' 'cat__DOLocationID_145'\n",
            " 'cat__DOLocationID_146' 'cat__DOLocationID_147' 'cat__DOLocationID_148'\n",
            " 'cat__DOLocationID_149' 'cat__DOLocationID_150' 'cat__DOLocationID_151'\n",
            " 'cat__DOLocationID_152' 'cat__DOLocationID_153' 'cat__DOLocationID_154'\n",
            " 'cat__DOLocationID_155' 'cat__DOLocationID_156' 'cat__DOLocationID_157'\n",
            " 'cat__DOLocationID_158' 'cat__DOLocationID_159' 'cat__DOLocationID_160'\n",
            " 'cat__DOLocationID_161' 'cat__DOLocationID_162' 'cat__DOLocationID_163'\n",
            " 'cat__DOLocationID_164' 'cat__DOLocationID_165' 'cat__DOLocationID_166'\n",
            " 'cat__DOLocationID_167' 'cat__DOLocationID_168' 'cat__DOLocationID_169'\n",
            " 'cat__DOLocationID_170' 'cat__DOLocationID_171' 'cat__DOLocationID_172'\n",
            " 'cat__DOLocationID_173' 'cat__DOLocationID_174' 'cat__DOLocationID_175'\n",
            " 'cat__DOLocationID_176' 'cat__DOLocationID_177' 'cat__DOLocationID_178'\n",
            " 'cat__DOLocationID_179' 'cat__DOLocationID_180' 'cat__DOLocationID_181'\n",
            " 'cat__DOLocationID_182' 'cat__DOLocationID_183' 'cat__DOLocationID_184'\n",
            " 'cat__DOLocationID_185' 'cat__DOLocationID_186' 'cat__DOLocationID_187'\n",
            " 'cat__DOLocationID_188' 'cat__DOLocationID_189' 'cat__DOLocationID_190'\n",
            " 'cat__DOLocationID_191' 'cat__DOLocationID_192' 'cat__DOLocationID_193'\n",
            " 'cat__DOLocationID_194' 'cat__DOLocationID_195' 'cat__DOLocationID_196'\n",
            " 'cat__DOLocationID_197' 'cat__DOLocationID_198' 'cat__DOLocationID_200'\n",
            " 'cat__DOLocationID_201' 'cat__DOLocationID_202' 'cat__DOLocationID_203'\n",
            " 'cat__DOLocationID_204' 'cat__DOLocationID_205' 'cat__DOLocationID_206'\n",
            " 'cat__DOLocationID_207' 'cat__DOLocationID_208' 'cat__DOLocationID_209'\n",
            " 'cat__DOLocationID_210' 'cat__DOLocationID_211' 'cat__DOLocationID_212'\n",
            " 'cat__DOLocationID_213' 'cat__DOLocationID_214' 'cat__DOLocationID_215'\n",
            " 'cat__DOLocationID_216' 'cat__DOLocationID_217' 'cat__DOLocationID_218'\n",
            " 'cat__DOLocationID_219' 'cat__DOLocationID_220' 'cat__DOLocationID_221'\n",
            " 'cat__DOLocationID_222' 'cat__DOLocationID_223' 'cat__DOLocationID_224'\n",
            " 'cat__DOLocationID_225' 'cat__DOLocationID_226' 'cat__DOLocationID_227'\n",
            " 'cat__DOLocationID_228' 'cat__DOLocationID_229' 'cat__DOLocationID_230'\n",
            " 'cat__DOLocationID_231' 'cat__DOLocationID_232' 'cat__DOLocationID_233'\n",
            " 'cat__DOLocationID_234' 'cat__DOLocationID_235' 'cat__DOLocationID_236'\n",
            " 'cat__DOLocationID_237' 'cat__DOLocationID_238' 'cat__DOLocationID_239'\n",
            " 'cat__DOLocationID_240' 'cat__DOLocationID_241' 'cat__DOLocationID_242'\n",
            " 'cat__DOLocationID_243' 'cat__DOLocationID_244' 'cat__DOLocationID_245'\n",
            " 'cat__DOLocationID_246' 'cat__DOLocationID_247' 'cat__DOLocationID_248'\n",
            " 'cat__DOLocationID_249' 'cat__DOLocationID_250' 'cat__DOLocationID_251'\n",
            " 'cat__DOLocationID_252' 'cat__DOLocationID_253' 'cat__DOLocationID_254'\n",
            " 'cat__DOLocationID_255' 'cat__DOLocationID_256' 'cat__DOLocationID_257'\n",
            " 'cat__DOLocationID_258' 'cat__DOLocationID_259' 'cat__DOLocationID_260'\n",
            " 'cat__DOLocationID_261' 'cat__DOLocationID_262' 'cat__DOLocationID_263'\n",
            " 'cat__DOLocationID_264' 'cat__DOLocationID_265' 'num__trip_distance'\n",
            " 'num__trip_duration']\n"
          ]
        }
      ],
      "source": [
        "# Use Scikit-Learn's ColumnTransformer to preprocess the categorical and\n",
        "# continuous features independently.\n",
        "\n",
        "from sklearn.compose import ColumnTransformer\n",
        "from sklearn.preprocessing import OneHotEncoder, StandardScaler\n",
        "\n",
        "t = [('cat', OneHotEncoder(), ['VendorID', 'payment_type', 'PULocationID', 'DOLocationID']),('num', StandardScaler(), ['trip_distance', 'trip_duration'])]\n",
        "ct = ColumnTransformer(transformers=t)\n",
        "X_transf = ct.fit_transform(X)\n",
        "\n",
        "#Data may be much more interpretable if PU and DO locations were restricted to the most common n categories"
      ]
    },
    {
      "cell_type": "code",
      "execution_count": 63,
      "metadata": {
        "id": "yVzxrDu6w506"
      },
      "outputs": [],
      "source": [
        "# Create a pipeline object containing the column transformations and regression\n",
        "# model.\n",
        "from sklearn.pipeline import Pipeline\n",
        "reg = Pipeline(steps=[(\"preprocess\", ct), (\"regressor\", LinearRegression())])"
      ]
    },
    {
      "cell_type": "code",
      "execution_count": 64,
      "metadata": {
        "id": "7Dhli3fkalIS"
      },
      "outputs": [
        {
          "data": {
            "text/html": [
              "<style>#sk-container-id-1 {color: black;}#sk-container-id-1 pre{padding: 0;}#sk-container-id-1 div.sk-toggleable {background-color: white;}#sk-container-id-1 label.sk-toggleable__label {cursor: pointer;display: block;width: 100%;margin-bottom: 0;padding: 0.3em;box-sizing: border-box;text-align: center;}#sk-container-id-1 label.sk-toggleable__label-arrow:before {content: \"▸\";float: left;margin-right: 0.25em;color: #696969;}#sk-container-id-1 label.sk-toggleable__label-arrow:hover:before {color: black;}#sk-container-id-1 div.sk-estimator:hover label.sk-toggleable__label-arrow:before {color: black;}#sk-container-id-1 div.sk-toggleable__content {max-height: 0;max-width: 0;overflow: hidden;text-align: left;background-color: #f0f8ff;}#sk-container-id-1 div.sk-toggleable__content pre {margin: 0.2em;color: black;border-radius: 0.25em;background-color: #f0f8ff;}#sk-container-id-1 input.sk-toggleable__control:checked~div.sk-toggleable__content {max-height: 200px;max-width: 100%;overflow: auto;}#sk-container-id-1 input.sk-toggleable__control:checked~label.sk-toggleable__label-arrow:before {content: \"▾\";}#sk-container-id-1 div.sk-estimator input.sk-toggleable__control:checked~label.sk-toggleable__label {background-color: #d4ebff;}#sk-container-id-1 div.sk-label input.sk-toggleable__control:checked~label.sk-toggleable__label {background-color: #d4ebff;}#sk-container-id-1 input.sk-hidden--visually {border: 0;clip: rect(1px 1px 1px 1px);clip: rect(1px, 1px, 1px, 1px);height: 1px;margin: -1px;overflow: hidden;padding: 0;position: absolute;width: 1px;}#sk-container-id-1 div.sk-estimator {font-family: monospace;background-color: #f0f8ff;border: 1px dotted black;border-radius: 0.25em;box-sizing: border-box;margin-bottom: 0.5em;}#sk-container-id-1 div.sk-estimator:hover {background-color: #d4ebff;}#sk-container-id-1 div.sk-parallel-item::after {content: \"\";width: 100%;border-bottom: 1px solid gray;flex-grow: 1;}#sk-container-id-1 div.sk-label:hover label.sk-toggleable__label {background-color: #d4ebff;}#sk-container-id-1 div.sk-serial::before {content: \"\";position: absolute;border-left: 1px solid gray;box-sizing: border-box;top: 0;bottom: 0;left: 50%;z-index: 0;}#sk-container-id-1 div.sk-serial {display: flex;flex-direction: column;align-items: center;background-color: white;padding-right: 0.2em;padding-left: 0.2em;position: relative;}#sk-container-id-1 div.sk-item {position: relative;z-index: 1;}#sk-container-id-1 div.sk-parallel {display: flex;align-items: stretch;justify-content: center;background-color: white;position: relative;}#sk-container-id-1 div.sk-item::before, #sk-container-id-1 div.sk-parallel-item::before {content: \"\";position: absolute;border-left: 1px solid gray;box-sizing: border-box;top: 0;bottom: 0;left: 50%;z-index: -1;}#sk-container-id-1 div.sk-parallel-item {display: flex;flex-direction: column;z-index: 1;position: relative;background-color: white;}#sk-container-id-1 div.sk-parallel-item:first-child::after {align-self: flex-end;width: 50%;}#sk-container-id-1 div.sk-parallel-item:last-child::after {align-self: flex-start;width: 50%;}#sk-container-id-1 div.sk-parallel-item:only-child::after {width: 0;}#sk-container-id-1 div.sk-dashed-wrapped {border: 1px dashed gray;margin: 0 0.4em 0.5em 0.4em;box-sizing: border-box;padding-bottom: 0.4em;background-color: white;}#sk-container-id-1 div.sk-label label {font-family: monospace;font-weight: bold;display: inline-block;line-height: 1.2em;}#sk-container-id-1 div.sk-label-container {text-align: center;}#sk-container-id-1 div.sk-container {/* jupyter's `normalize.less` sets `[hidden] { display: none; }` but bootstrap.min.css set `[hidden] { display: none !important; }` so we also need the `!important` here to be able to override the default hidden behavior on the sphinx rendered scikit-learn.org. See: https://github.com/scikit-learn/scikit-learn/issues/21755 */display: inline-block !important;position: relative;}#sk-container-id-1 div.sk-text-repr-fallback {display: none;}</style><div id=\"sk-container-id-1\" class=\"sk-top-container\"><div class=\"sk-text-repr-fallback\"><pre>Pipeline(steps=[(&#x27;preprocess&#x27;,\n",
              "                 ColumnTransformer(transformers=[(&#x27;cat&#x27;, OneHotEncoder(),\n",
              "                                                  [&#x27;VendorID&#x27;, &#x27;payment_type&#x27;,\n",
              "                                                   &#x27;PULocationID&#x27;,\n",
              "                                                   &#x27;DOLocationID&#x27;]),\n",
              "                                                 (&#x27;num&#x27;, StandardScaler(),\n",
              "                                                  [&#x27;trip_distance&#x27;,\n",
              "                                                   &#x27;trip_duration&#x27;])])),\n",
              "                (&#x27;regressor&#x27;, LinearRegression())])</pre><b>In a Jupyter environment, please rerun this cell to show the HTML representation or trust the notebook. <br />On GitHub, the HTML representation is unable to render, please try loading this page with nbviewer.org.</b></div><div class=\"sk-container\" hidden><div class=\"sk-item sk-dashed-wrapped\"><div class=\"sk-label-container\"><div class=\"sk-label sk-toggleable\"><input class=\"sk-toggleable__control sk-hidden--visually\" id=\"sk-estimator-id-1\" type=\"checkbox\" ><label for=\"sk-estimator-id-1\" class=\"sk-toggleable__label sk-toggleable__label-arrow\">Pipeline</label><div class=\"sk-toggleable__content\"><pre>Pipeline(steps=[(&#x27;preprocess&#x27;,\n",
              "                 ColumnTransformer(transformers=[(&#x27;cat&#x27;, OneHotEncoder(),\n",
              "                                                  [&#x27;VendorID&#x27;, &#x27;payment_type&#x27;,\n",
              "                                                   &#x27;PULocationID&#x27;,\n",
              "                                                   &#x27;DOLocationID&#x27;]),\n",
              "                                                 (&#x27;num&#x27;, StandardScaler(),\n",
              "                                                  [&#x27;trip_distance&#x27;,\n",
              "                                                   &#x27;trip_duration&#x27;])])),\n",
              "                (&#x27;regressor&#x27;, LinearRegression())])</pre></div></div></div><div class=\"sk-serial\"><div class=\"sk-item sk-dashed-wrapped\"><div class=\"sk-label-container\"><div class=\"sk-label sk-toggleable\"><input class=\"sk-toggleable__control sk-hidden--visually\" id=\"sk-estimator-id-2\" type=\"checkbox\" ><label for=\"sk-estimator-id-2\" class=\"sk-toggleable__label sk-toggleable__label-arrow\">preprocess: ColumnTransformer</label><div class=\"sk-toggleable__content\"><pre>ColumnTransformer(transformers=[(&#x27;cat&#x27;, OneHotEncoder(),\n",
              "                                 [&#x27;VendorID&#x27;, &#x27;payment_type&#x27;, &#x27;PULocationID&#x27;,\n",
              "                                  &#x27;DOLocationID&#x27;]),\n",
              "                                (&#x27;num&#x27;, StandardScaler(),\n",
              "                                 [&#x27;trip_distance&#x27;, &#x27;trip_duration&#x27;])])</pre></div></div></div><div class=\"sk-parallel\"><div class=\"sk-parallel-item\"><div class=\"sk-item\"><div class=\"sk-label-container\"><div class=\"sk-label sk-toggleable\"><input class=\"sk-toggleable__control sk-hidden--visually\" id=\"sk-estimator-id-3\" type=\"checkbox\" ><label for=\"sk-estimator-id-3\" class=\"sk-toggleable__label sk-toggleable__label-arrow\">cat</label><div class=\"sk-toggleable__content\"><pre>[&#x27;VendorID&#x27;, &#x27;payment_type&#x27;, &#x27;PULocationID&#x27;, &#x27;DOLocationID&#x27;]</pre></div></div></div><div class=\"sk-serial\"><div class=\"sk-item\"><div class=\"sk-estimator sk-toggleable\"><input class=\"sk-toggleable__control sk-hidden--visually\" id=\"sk-estimator-id-4\" type=\"checkbox\" ><label for=\"sk-estimator-id-4\" class=\"sk-toggleable__label sk-toggleable__label-arrow\">OneHotEncoder</label><div class=\"sk-toggleable__content\"><pre>OneHotEncoder()</pre></div></div></div></div></div></div><div class=\"sk-parallel-item\"><div class=\"sk-item\"><div class=\"sk-label-container\"><div class=\"sk-label sk-toggleable\"><input class=\"sk-toggleable__control sk-hidden--visually\" id=\"sk-estimator-id-5\" type=\"checkbox\" ><label for=\"sk-estimator-id-5\" class=\"sk-toggleable__label sk-toggleable__label-arrow\">num</label><div class=\"sk-toggleable__content\"><pre>[&#x27;trip_distance&#x27;, &#x27;trip_duration&#x27;]</pre></div></div></div><div class=\"sk-serial\"><div class=\"sk-item\"><div class=\"sk-estimator sk-toggleable\"><input class=\"sk-toggleable__control sk-hidden--visually\" id=\"sk-estimator-id-6\" type=\"checkbox\" ><label for=\"sk-estimator-id-6\" class=\"sk-toggleable__label sk-toggleable__label-arrow\">StandardScaler</label><div class=\"sk-toggleable__content\"><pre>StandardScaler()</pre></div></div></div></div></div></div></div></div><div class=\"sk-item\"><div class=\"sk-estimator sk-toggleable\"><input class=\"sk-toggleable__control sk-hidden--visually\" id=\"sk-estimator-id-7\" type=\"checkbox\" ><label for=\"sk-estimator-id-7\" class=\"sk-toggleable__label sk-toggleable__label-arrow\">LinearRegression</label><div class=\"sk-toggleable__content\"><pre>LinearRegression()</pre></div></div></div></div></div></div></div>"
            ],
            "text/plain": [
              "Pipeline(steps=[('preprocess',\n",
              "                 ColumnTransformer(transformers=[('cat', OneHotEncoder(),\n",
              "                                                  ['VendorID', 'payment_type',\n",
              "                                                   'PULocationID',\n",
              "                                                   'DOLocationID']),\n",
              "                                                 ('num', StandardScaler(),\n",
              "                                                  ['trip_distance',\n",
              "                                                   'trip_duration'])])),\n",
              "                ('regressor', LinearRegression())])"
            ]
          },
          "execution_count": 64,
          "metadata": {},
          "output_type": "execute_result"
        }
      ],
      "source": [
        "# Fit the pipeline on the training data.\n",
        "reg.fit(X_train, y_train)"
      ]
    },
    {
      "cell_type": "code",
      "execution_count": 66,
      "metadata": {
        "id": "mUkcHyJpamxC"
      },
      "outputs": [
        {
          "data": {
            "text/plain": [
              "0.7069264483569624"
            ]
          },
          "execution_count": 66,
          "metadata": {},
          "output_type": "execute_result"
        }
      ],
      "source": [
        "# Make predictions on the test data.\n",
        "reg.score(X_test, y_test)"
      ]
    },
    {
      "cell_type": "markdown",
      "metadata": {
        "id": "d1669p0UBHrx"
      },
      "source": [
        "Random Forest Regression and Linear Regression are two commonly used regression algorithms, each with its own advantages and suitability for different scenarios. Random Forest Regression offers several advantages over Linear Regression, including:\n",
        "\n",
        "1. **Non-linearity**: Random Forest Regressor is capable of capturing non-linear relationships between features and the target variable. In contrast, Linear Regression assumes a linear relationship between the features and the target. When faced with non-linear relationships or complex feature interactions, Random Forest Regressor can provide more accurate predictions.\n",
        "\n",
        "2. **Robustness to Outliers**: Random Forest Regressor is generally more robust to outliers compared to Linear Regression. Outliers can disproportionately impact the coefficients and predictions of Linear Regression models. However, as an ensemble of decision trees, Random Forest Regressor can mitigate the effect of outliers by averaging predictions from multiple trees.\n",
        "\n",
        "3. **Feature Importance**: Random Forest Regressor provides a measure of feature importance, which helps identify the most influential features for making predictions. This information is useful for feature selection, understanding the underlying relationships in the data, and gaining insights into the problem domain. Unlike Linear Regression, which provides coefficient values indicating the direction and magnitude of relationships, Random Forest Regressor explicitly highlights feature importance.\n",
        "\n",
        "4. **Handling of Categorical Variables**: Random Forest Regressor can effectively handle categorical variables without requiring pre-processing steps like one-hot encoding. It can directly incorporate categorical variables into the model, making it more convenient when working with mixed data types. In contrast, Linear Regression often requires categorical variables to be encoded or transformed before use.\n",
        "\n",
        "5. **Handling of High-Dimensional Data**: Random Forest Regressor can handle datasets with a large number of features (high dimensionality) by automatically selecting subsets of features during the construction of individual decision trees. This reduces the risk of overfitting, which is a concern with Linear Regression when dealing with high-dimensional data.\n",
        "\n",
        "6. **Resistance to Multicollinearity**: Random Forest Regressor is less affected by multicollinearity, which occurs when predictor variables are highly correlated. In Linear Regression, highly correlated features can lead to unstable coefficient estimates, making it challenging to interpret the individual effects of each feature. Random Forest Regressor, as an ensemble approach, is less impacted by multicollinearity because each tree is built independently.\n",
        "\n",
        "Here are your tasks:\n",
        "\n",
        "  1. Build a Random Forest Regressor model using Scikit-Learn's [RandomForestRegressor](https://scikit-learn.org/stable/modules/generated/sklearn.ensemble.RandomForestRegressor.html) and train it on the train data.\n",
        "\n",
        "  2. Evaluate the performance of the model on the test data using mean absolute error as a metric. Mess around with various input parameter configurations to see how they affect the model. Can you beat the performance of the linear regression model?"
      ]
    },
    {
      "cell_type": "code",
      "execution_count": 69,
      "metadata": {
        "id": "QU4tTQKl4q_n"
      },
      "outputs": [
        {
          "data": {
            "text/html": [
              "<style>#sk-container-id-2 {color: black;}#sk-container-id-2 pre{padding: 0;}#sk-container-id-2 div.sk-toggleable {background-color: white;}#sk-container-id-2 label.sk-toggleable__label {cursor: pointer;display: block;width: 100%;margin-bottom: 0;padding: 0.3em;box-sizing: border-box;text-align: center;}#sk-container-id-2 label.sk-toggleable__label-arrow:before {content: \"▸\";float: left;margin-right: 0.25em;color: #696969;}#sk-container-id-2 label.sk-toggleable__label-arrow:hover:before {color: black;}#sk-container-id-2 div.sk-estimator:hover label.sk-toggleable__label-arrow:before {color: black;}#sk-container-id-2 div.sk-toggleable__content {max-height: 0;max-width: 0;overflow: hidden;text-align: left;background-color: #f0f8ff;}#sk-container-id-2 div.sk-toggleable__content pre {margin: 0.2em;color: black;border-radius: 0.25em;background-color: #f0f8ff;}#sk-container-id-2 input.sk-toggleable__control:checked~div.sk-toggleable__content {max-height: 200px;max-width: 100%;overflow: auto;}#sk-container-id-2 input.sk-toggleable__control:checked~label.sk-toggleable__label-arrow:before {content: \"▾\";}#sk-container-id-2 div.sk-estimator input.sk-toggleable__control:checked~label.sk-toggleable__label {background-color: #d4ebff;}#sk-container-id-2 div.sk-label input.sk-toggleable__control:checked~label.sk-toggleable__label {background-color: #d4ebff;}#sk-container-id-2 input.sk-hidden--visually {border: 0;clip: rect(1px 1px 1px 1px);clip: rect(1px, 1px, 1px, 1px);height: 1px;margin: -1px;overflow: hidden;padding: 0;position: absolute;width: 1px;}#sk-container-id-2 div.sk-estimator {font-family: monospace;background-color: #f0f8ff;border: 1px dotted black;border-radius: 0.25em;box-sizing: border-box;margin-bottom: 0.5em;}#sk-container-id-2 div.sk-estimator:hover {background-color: #d4ebff;}#sk-container-id-2 div.sk-parallel-item::after {content: \"\";width: 100%;border-bottom: 1px solid gray;flex-grow: 1;}#sk-container-id-2 div.sk-label:hover label.sk-toggleable__label {background-color: #d4ebff;}#sk-container-id-2 div.sk-serial::before {content: \"\";position: absolute;border-left: 1px solid gray;box-sizing: border-box;top: 0;bottom: 0;left: 50%;z-index: 0;}#sk-container-id-2 div.sk-serial {display: flex;flex-direction: column;align-items: center;background-color: white;padding-right: 0.2em;padding-left: 0.2em;position: relative;}#sk-container-id-2 div.sk-item {position: relative;z-index: 1;}#sk-container-id-2 div.sk-parallel {display: flex;align-items: stretch;justify-content: center;background-color: white;position: relative;}#sk-container-id-2 div.sk-item::before, #sk-container-id-2 div.sk-parallel-item::before {content: \"\";position: absolute;border-left: 1px solid gray;box-sizing: border-box;top: 0;bottom: 0;left: 50%;z-index: -1;}#sk-container-id-2 div.sk-parallel-item {display: flex;flex-direction: column;z-index: 1;position: relative;background-color: white;}#sk-container-id-2 div.sk-parallel-item:first-child::after {align-self: flex-end;width: 50%;}#sk-container-id-2 div.sk-parallel-item:last-child::after {align-self: flex-start;width: 50%;}#sk-container-id-2 div.sk-parallel-item:only-child::after {width: 0;}#sk-container-id-2 div.sk-dashed-wrapped {border: 1px dashed gray;margin: 0 0.4em 0.5em 0.4em;box-sizing: border-box;padding-bottom: 0.4em;background-color: white;}#sk-container-id-2 div.sk-label label {font-family: monospace;font-weight: bold;display: inline-block;line-height: 1.2em;}#sk-container-id-2 div.sk-label-container {text-align: center;}#sk-container-id-2 div.sk-container {/* jupyter's `normalize.less` sets `[hidden] { display: none; }` but bootstrap.min.css set `[hidden] { display: none !important; }` so we also need the `!important` here to be able to override the default hidden behavior on the sphinx rendered scikit-learn.org. See: https://github.com/scikit-learn/scikit-learn/issues/21755 */display: inline-block !important;position: relative;}#sk-container-id-2 div.sk-text-repr-fallback {display: none;}</style><div id=\"sk-container-id-2\" class=\"sk-top-container\"><div class=\"sk-text-repr-fallback\"><pre>RandomForestRegressor(max_depth=2, random_state=42)</pre><b>In a Jupyter environment, please rerun this cell to show the HTML representation or trust the notebook. <br />On GitHub, the HTML representation is unable to render, please try loading this page with nbviewer.org.</b></div><div class=\"sk-container\" hidden><div class=\"sk-item\"><div class=\"sk-estimator sk-toggleable\"><input class=\"sk-toggleable__control sk-hidden--visually\" id=\"sk-estimator-id-8\" type=\"checkbox\" checked><label for=\"sk-estimator-id-8\" class=\"sk-toggleable__label sk-toggleable__label-arrow\">RandomForestRegressor</label><div class=\"sk-toggleable__content\"><pre>RandomForestRegressor(max_depth=2, random_state=42)</pre></div></div></div></div></div>"
            ],
            "text/plain": [
              "RandomForestRegressor(max_depth=2, random_state=42)"
            ]
          },
          "execution_count": 69,
          "metadata": {},
          "output_type": "execute_result"
        }
      ],
      "source": [
        "# Build random forest regressor model\n",
        "from sklearn.ensemble import RandomForestRegressor\n",
        "rfr = RandomForestRegressor(max_depth=2, random_state=42)\n",
        "rfr.fit(X_train, y_train)"
      ]
    },
    {
      "cell_type": "code",
      "execution_count": 70,
      "metadata": {
        "id": "P6SIX9EK5RYi"
      },
      "outputs": [
        {
          "name": "stdout",
          "output_type": "stream",
          "text": [
            "3.8589771896432437\n"
          ]
        }
      ],
      "source": [
        "# Make predictions on the test data\n",
        "preds = rfr.predict(X_test)\n",
        "rfr_mae = mean_absolute_error(y_test, preds)\n",
        "print(rfr_mae)"
      ]
    },
    {
      "cell_type": "markdown",
      "metadata": {
        "id": "5CuYk9WBFF2X"
      },
      "source": [
        "Hyperparameter tuning plays a critical role in machine learning model development. It involves selecting the optimal values for the hyperparameters, which are configuration settings that control the behavior of the learning algorithm. Here's why hyperparameter tuning is so important in ML:\n",
        "\n",
        "1. **Optimizing Model Performance**: The choice of hyperparameters can significantly impact the model's performance. By fine-tuning the hyperparameters, we can improve the model's accuracy, precision, recall, or other performance metrics. It helps to extract the maximum predictive power from the chosen algorithm and ensures that the model is well-suited to the specific problem at hand.\n",
        "\n",
        "2. **Avoiding Overfitting and Underfitting**: Hyperparameter tuning helps strike a balance between overfitting and underfitting.\n",
        "\n",
        "3. **Exploring Model Complexity**: Hyperparameter tuning enables us to explore the complexity of the model. For instance, in algorithms like decision trees or neural networks, we can adjust the number of layers, the number of neurons, or the maximum depth of the tree. By systematically modifying these hyperparameters, we can understand how different levels of complexity impact the model's performance and find the right balance between simplicity and complexity.\n",
        "\n",
        "Note, there are multiple approaches to hyperparemeter tuning.  \n",
        "\n",
        "While grid search is the easiest to understand and implement there are many advantages of Bayesian search over grid search for hyperparameter tuning:\n",
        "\n",
        "1. **Efficiency**: Bayesian search is generally more efficient than grid search. Grid search explores all possible combinations of hyperparameter values, which can be computationally expensive and time-consuming, especially when dealing with a large number of hyperparameters or a wide range of values. Bayesian search, on the other hand, intelligently selects the next hyperparameter configuration to evaluate based on the results of previous evaluations. It focuses on areas of the hyperparameter space that are more likely to yield better performance, reducing the number of evaluations needed.\n",
        "\n",
        "2. **Flexibility**: Bayesian search is flexible in handling continuous and discrete hyperparameters. It can handle both types of hyperparameters naturally and effectively. In contrast, grid search is more suitable for discrete hyperparameters but may struggle with continuous ones, as it requires discretization or defining a finite set of values to search over.\n",
        "\n",
        "3. **Adaptive Search**: Bayesian search adapts its search strategy based on the results of previous evaluations. It maintains a probability distribution over the hyperparameter space, updating it with each evaluation. This allows it to dynamically allocate more evaluations to promising regions and explore unexplored areas. In contrast, grid search follows a fixed and predefined search grid, regardless of the results of previous evaluations.\n",
        "\n",
        "4. **Better Convergence**: Bayesian search has the potential to converge to the optimal hyperparameter configuration more quickly.\n",
        "\n",
        "Here are your tasks:\n",
        "\n",
        "  1. Perform a grid-search on a Random Forest Regressor model. Only search the space for the parameters 'n_estimators', 'max_depth', and 'min_samples_split'. Note, this can take some time to run. Make sure you set reasonable boundaries for the search space. Use Scikit-Learn's [GridSearchCV](https://scikit-learn.org/stable/modules/generated/sklearn.model_selection.GridSearchCV.html) method.\n",
        "\n",
        "  2. After you've identified the best parameters, train a random forest regression model using these parameters on the full training data.\n",
        "\n",
        "  3. Evaluate the model from the previous step using the test data. How does your model perform?"
      ]
    },
    {
      "cell_type": "code",
      "execution_count": 72,
      "metadata": {
        "id": "HlmZeNDOa1zs"
      },
      "outputs": [],
      "source": [
        "# Define the hyperparameters to tune.\n",
        "from sklearn.model_selection import GridSearchCV\n",
        "params = {'n_estimators': (100, 200, 300), \n",
        "           'max_depth':(1,2,3),\n",
        "           'min_samples_split':(1,2,3)}"
      ]
    },
    {
      "cell_type": "code",
      "execution_count": 73,
      "metadata": {
        "colab": {
          "background_save": true
        },
        "id": "NWaMWOH6Kdho"
      },
      "outputs": [],
      "source": [
        "# Perform grid search to find the best hyperparameters. This could take a while.\n",
        "rfr = RandomForestRegressor()\n",
        "gs_rfr = GridSearchCV(rfr,params)\n",
        "gs_rfr.fit(X_train,y_train)\n",
        "print(gs_rfr.cv_results_.keys())"
      ]
    },
    {
      "cell_type": "code",
      "execution_count": null,
      "metadata": {
        "id": "_JO-wsm7a58f"
      },
      "outputs": [],
      "source": [
        "# Get the best model and its parameters.\n",
        "print(gs_rfr.best_params_,gs_rfr.best_estimator_)"
      ]
    },
    {
      "cell_type": "code",
      "execution_count": null,
      "metadata": {
        "colab": {
          "background_save": true
        },
        "id": "W7ier_bt23RS"
      },
      "outputs": [],
      "source": [
        "# Fit the best classifier on the training data.\n",
        "b_rfr = gs_rfr.best_estimator_(gs_rfr.best_params_).fit(X_train,y_train)"
      ]
    },
    {
      "cell_type": "code",
      "execution_count": null,
      "metadata": {
        "colab": {
          "background_save": true
        },
        "id": "ZHPrwD41tq13"
      },
      "outputs": [],
      "source": [
        "# Make predictions on the test data\n",
        "b_rfr.predict(X_test)"
      ]
    }
  ],
  "metadata": {
    "colab": {
      "provenance": []
    },
    "kernelspec": {
      "display_name": "Python 3",
      "name": "python3"
    },
    "language_info": {
      "name": "python"
    }
  },
  "nbformat": 4,
  "nbformat_minor": 0
}
