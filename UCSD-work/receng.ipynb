{
  "cells": [
    {
      "cell_type": "markdown",
      "metadata": {
        "id": "fyXucUekO19i"
      },
      "source": [
        "# Mini Project: Recommendation Engines\n",
        "\n",
        "Recommendation engines are algorithms designed to provide personalized suggestions or recommendations to users. These systems analyze user behavior, preferences, and interactions with items (products, movies, music, articles, etc.) to predict and offer items that users are likely to be interested in. Recommendation engines play a crucial role in enhancing user experience, driving engagement, and increasing conversion rates in various applications, including e-commerce, entertainment, content platforms, and more.\n",
        "\n",
        "There are generally two approaches taken in collaborative filtering and content-based recommendation engines:\n",
        "\n",
        "**1. Collaborative Filtering:**\n",
        "Collaborative Filtering is a popular approach to building recommendation systems that leverages the collective behavior of users to make personalized recommendations. It is based on the idea that users who have agreed in the past will likely agree in the future. There are two main types of collaborative filtering:\n",
        "\n",
        "- **User-based Collaborative Filtering:** This method finds users similar to the target user based on their past interactions (e.g., ratings or purchases). It then recommends items that similar users have liked but the target user has not interacted with yet.\n",
        "\n",
        "- **Item-based Collaborative Filtering:** In this approach, the system identifies similar items based on user interactions. It recommends items that are similar to the ones the target user has already liked or interacted with.\n",
        "\n",
        "Collaborative filtering does not require any explicit information about items but relies on the similarity between users or items. It is effective in capturing complex patterns and can provide serendipitous recommendations. However, it suffers from the cold-start problem (i.e., difficulty in recommending to new users or items with no interactions) and scalability challenges in large datasets.\n",
        "\n",
        "**2. Content-Based Recommendation:**\n",
        "Content-based recommendation is an alternative approach to building recommendation systems that focuses on the attributes or features of items and users. It leverages the characteristics of items to make recommendations. The key steps involved in content-based recommendation are:\n",
        "\n",
        "- **Feature Extraction:** For each item, relevant features are extracted. For movies, these features could be genre, director, actors, and plot summary.\n",
        "\n",
        "- **User Profile:** A user profile is created based on the items they have interacted with in the past. The user profile contains the weighted importance of features based on their interactions.\n",
        "\n",
        "- **Similarity Calculation:** The similarity between items or between items and the user profile is calculated using similarity metrics like cosine similarity or Euclidean distance.\n",
        "\n",
        "- **Recommendation:** Items that are most similar to the user profile are recommended to the user.\n",
        "\n",
        "Content-based recommendation systems are less affected by the cold-start problem as they can still recommend items based on their features. They are also more interpretable as they rely on item attributes. However, they may miss out on providing serendipitous recommendations and can be limited by the quality of feature extraction and user profiles.\n",
        "\n",
        "**Choosing Between Collaborative Filtering and Content-Based:**\n",
        "Both collaborative filtering and content-based approaches have their strengths and weaknesses. The choice between them depends on the specific requirements of the recommendation system, the type of data available, and the user base. Hybrid approaches that combine collaborative filtering and content-based techniques are also common, aiming to leverage the strengths of both methods and mitigate their weaknesses."
      ]
    },
    {
      "cell_type": "markdown",
      "metadata": {
        "id": "TYuE9O6I2uRY"
      },
      "source": [
        "In this mini-project, you'll be building both content based and collaborative filtering engines for the [MovieLens 25M dataset](https://grouplens.org/datasets/movielens/25m/). The MovieLens 25M dataset is one of the most widely used and popular datasets for building and evaluating recommendation systems. It is provided by the GroupLens Research project, which collects and studies datasets related to movie ratings and recommendations. The MovieLens 25M dataset contains movie ratings and other related information contributed by users of the MovieLens website.\n",
        "\n",
        "**Dataset Details:**\n",
        "- **Size:** The dataset contains approximately 25 million movie ratings.\n",
        "- **Users:** It includes ratings from over 162,000 users.\n",
        "- **Movies:** The dataset consists of ratings for more than 62,000 movies.\n",
        "- **Ratings:** The ratings are provided on a scale of 1 to 5, where 1 is the lowest rating and 5 is the highest.\n",
        "- **Timestamps:** Each rating is associated with a timestamp, indicating when the rating was given.\n",
        "\n",
        "**Data Files:**\n",
        "The dataset is usually split into three CSV files:\n",
        "\n",
        "1. **movies.csv:** Contains information about movies, including the movie ID, title, genres, and release year.\n",
        "   - Columns: movieId, title, genres\n",
        "\n",
        "2. **ratings.csv:** Contains movie ratings provided by users, including the user ID, movie ID, rating, and timestamp.\n",
        "   - Columns: userId, movieId, rating, timestamp\n",
        "\n",
        "3. **tags.csv:** Contains user-generated tags for movies, including the user ID, movie ID, tag, and timestamp.\n",
        "   - Columns: userId, movieId, tag, timestamp"
      ]
    },
    {
      "cell_type": "markdown",
      "metadata": {
        "id": "DN0qzP-cRlMo"
      },
      "source": [
        "First, import all the libraries you'll need."
      ]
    },
    {
      "cell_type": "code",
      "execution_count": 265,
      "metadata": {
        "id": "kLWR1DfQPakn"
      },
      "outputs": [],
      "source": [
        "import zipfile\n",
        "import numpy as np\n",
        "import pandas as pd\n",
        "from urllib.request import urlretrieve\n",
        "from sklearn.metrics.pairwise import cosine_similarity"
      ]
    },
    {
      "cell_type": "markdown",
      "metadata": {
        "id": "iaG6vAKyREej"
      },
      "source": [
        "Next, download the relevant components of the MoveLens dataset. Note, these instructions are roughly based on the colab [here](https://colab.research.google.com/github/google/eng-edu/blob/main/ml/recommendation-systems/recommendation-systems.ipynb?utm_source=ss-recommendation-systems&utm_campaign=colab-external&utm_medium=referral&utm_content=recommendation-systems#scrollTo=O3bcgduFo4s6)."
      ]
    },
    {
      "cell_type": "code",
      "execution_count": 266,
      "metadata": {
        "id": "-wCvx2ukPm-3"
      },
      "outputs": [
        {
          "name": "stdout",
          "output_type": "stream",
          "text": [
            "Downloading movielens data...\n"
          ]
        },
        {
          "name": "stdout",
          "output_type": "stream",
          "text": [
            "Done. Dataset contains:\n",
            "b'943 users\\n1682 items\\n100000 ratings\\n'\n"
          ]
        }
      ],
      "source": [
        "print(\"Downloading movielens data...\")\n",
        "\n",
        "urlretrieve('http://files.grouplens.org/datasets/movielens/ml-100k.zip', 'movielens.zip')\n",
        "zip_ref = zipfile.ZipFile('movielens.zip', 'r')\n",
        "zip_ref.extractall()\n",
        "print(\"Done. Dataset contains:\")\n",
        "print(zip_ref.read('ml-100k/u.info'))\n",
        "\n",
        "ratings_cols = ['user_id', 'movie_id', 'rating', 'unix_timestamp']\n",
        "ratings = pd.read_csv(\n",
        "    'ml-100k/u.data', sep='\\t', names=ratings_cols, encoding='latin-1')\n",
        "\n",
        "# The movies file contains a binary feature for each genre.\n",
        "genre_cols = [\n",
        "    \"genre_unknown\", \"Action\", \"Adventure\", \"Animation\", \"Children\", \"Comedy\",\n",
        "    \"Crime\", \"Documentary\", \"Drama\", \"Fantasy\", \"Film-Noir\", \"Horror\",\n",
        "    \"Musical\", \"Mystery\", \"Romance\", \"Sci-Fi\", \"Thriller\", \"War\", \"Western\"\n",
        "]\n",
        "movies_cols = [\n",
        "    'movie_id', 'title', 'release_date', \"video_release_date\", \"imdb_url\"\n",
        "] + genre_cols\n",
        "movies = pd.read_csv(\n",
        "    'ml-100k/u.item', sep='|', names=movies_cols, encoding='latin-1')"
      ]
    },
    {
      "cell_type": "markdown",
      "metadata": {
        "id": "pLAMVhnbR-Cy"
      },
      "source": [
        "Before doing any kind of machine learning, it's always good to familiarize yourself with the datasets you'lll be working with.\n",
        "\n",
        "Here are your tasks:\n",
        "\n",
        "1. Spend some time familiarizing yourself with both the `movies` and `ratings` dataframes. How many unique user ids are present? How many unique movies are there?\n",
        "2. Create a new dataframe that merges the `movies` and `ratings` tables on 'movie_id'. Only keep the 'user_id', 'title', 'rating' fields in this new dataframe."
      ]
    },
    {
      "cell_type": "code",
      "execution_count": 267,
      "metadata": {
        "id": "vp7Tx7H_P5f2"
      },
      "outputs": [
        {
          "name": "stdout",
          "output_type": "stream",
          "text": [
            "          movie_id  video_release_date  genre_unknown       Action  \\\n",
            "count  1682.000000                 0.0    1682.000000  1682.000000   \n",
            "mean    841.500000                 NaN       0.001189     0.149227   \n",
            "std     485.695893                 NaN       0.034473     0.356418   \n",
            "min       1.000000                 NaN       0.000000     0.000000   \n",
            "25%     421.250000                 NaN       0.000000     0.000000   \n",
            "50%     841.500000                 NaN       0.000000     0.000000   \n",
            "75%    1261.750000                 NaN       0.000000     0.000000   \n",
            "max    1682.000000                 NaN       1.000000     1.000000   \n",
            "\n",
            "         Adventure    Animation     Children       Comedy        Crime  \\\n",
            "count  1682.000000  1682.000000  1682.000000  1682.000000  1682.000000   \n",
            "mean      0.080262     0.024970     0.072533     0.300238     0.064804   \n",
            "std       0.271779     0.156081     0.259445     0.458498     0.246253   \n",
            "min       0.000000     0.000000     0.000000     0.000000     0.000000   \n",
            "25%       0.000000     0.000000     0.000000     0.000000     0.000000   \n",
            "50%       0.000000     0.000000     0.000000     0.000000     0.000000   \n",
            "75%       0.000000     0.000000     0.000000     1.000000     0.000000   \n",
            "max       1.000000     1.000000     1.000000     1.000000     1.000000   \n",
            "\n",
            "       Documentary  ...     Fantasy    Film-Noir       Horror      Musical  \\\n",
            "count  1682.000000  ...  1682.00000  1682.000000  1682.000000  1682.000000   \n",
            "mean      0.029727  ...     0.01308     0.014269     0.054697     0.033294   \n",
            "std       0.169882  ...     0.11365     0.118632     0.227455     0.179456   \n",
            "min       0.000000  ...     0.00000     0.000000     0.000000     0.000000   \n",
            "25%       0.000000  ...     0.00000     0.000000     0.000000     0.000000   \n",
            "50%       0.000000  ...     0.00000     0.000000     0.000000     0.000000   \n",
            "75%       0.000000  ...     0.00000     0.000000     0.000000     0.000000   \n",
            "max       1.000000  ...     1.00000     1.000000     1.000000     1.000000   \n",
            "\n",
            "           Mystery      Romance       Sci-Fi     Thriller          War  \\\n",
            "count  1682.000000  1682.000000  1682.000000  1682.000000  1682.000000   \n",
            "mean      0.036266     0.146849     0.060048     0.149227     0.042212   \n",
            "std       0.187008     0.354061     0.237646     0.356418     0.201131   \n",
            "min       0.000000     0.000000     0.000000     0.000000     0.000000   \n",
            "25%       0.000000     0.000000     0.000000     0.000000     0.000000   \n",
            "50%       0.000000     0.000000     0.000000     0.000000     0.000000   \n",
            "75%       0.000000     0.000000     0.000000     0.000000     0.000000   \n",
            "max       1.000000     1.000000     1.000000     1.000000     1.000000   \n",
            "\n",
            "           Western  \n",
            "count  1682.000000  \n",
            "mean      0.016052  \n",
            "std       0.125714  \n",
            "min       0.000000  \n",
            "25%       0.000000  \n",
            "50%       0.000000  \n",
            "75%       0.000000  \n",
            "max       1.000000  \n",
            "\n",
            "[8 rows x 21 columns]\n",
            "            user_id       movie_id         rating  unix_timestamp\n",
            "count  100000.00000  100000.000000  100000.000000    1.000000e+05\n",
            "mean      462.48475     425.530130       3.529860    8.835289e+08\n",
            "std       266.61442     330.798356       1.125674    5.343856e+06\n",
            "min         1.00000       1.000000       1.000000    8.747247e+08\n",
            "25%       254.00000     175.000000       3.000000    8.794487e+08\n",
            "50%       447.00000     322.000000       4.000000    8.828269e+08\n",
            "75%       682.00000     631.000000       4.000000    8.882600e+08\n",
            "max       943.00000    1682.000000       5.000000    8.932866e+08\n",
            "there are 943 unique users in the ratings dataset\n",
            "there are 1664 unique movies in the movie dataset\n"
          ]
        }
      ],
      "source": [
        "# Spend some time familiarizing yourself with both the movies and ratings\n",
        "# dataframes. How many unique user ids are present? How many unique movies\n",
        "# are there?\n",
        "print(movies.describe())\n",
        "print(ratings.describe())\n",
        "print(\"there are \" + str(ratings.user_id.nunique()) + \" unique users in the ratings dataset\")\n",
        "print(\"there are \" + str(movies.title.nunique()) + \" unique movies in the movie dataset\") "
      ]
    },
    {
      "cell_type": "code",
      "execution_count": 268,
      "metadata": {},
      "outputs": [
        {
          "name": "stdout",
          "output_type": "stream",
          "text": [
            "    user_id  movie_id  rating  unix_timestamp\n",
            "0       196       242       3       881250949\n",
            "1       186       302       3       891717742\n",
            "2        22       377       1       878887116\n",
            "3       244        51       2       880606923\n",
            "4       166       346       1       886397596\n",
            "5       298       474       4       884182806\n",
            "6       115       265       2       881171488\n",
            "7       253       465       5       891628467\n",
            "8       305       451       3       886324817\n",
            "9         6        86       3       883603013\n",
            "10       62       257       2       879372434\n",
            "11      286      1014       5       879781125\n",
            "12      200       222       5       876042340\n",
            "13      210        40       3       891035994\n",
            "14      224        29       3       888104457\n"
          ]
        }
      ],
      "source": [
        "print(ratings.head(15))"
      ]
    },
    {
      "cell_type": "code",
      "execution_count": 269,
      "metadata": {
        "id": "f6MrymMJRMjB"
      },
      "outputs": [
        {
          "data": {
            "text/html": [
              "<div>\n",
              "<style scoped>\n",
              "    .dataframe tbody tr th:only-of-type {\n",
              "        vertical-align: middle;\n",
              "    }\n",
              "\n",
              "    .dataframe tbody tr th {\n",
              "        vertical-align: top;\n",
              "    }\n",
              "\n",
              "    .dataframe thead th {\n",
              "        text-align: right;\n",
              "    }\n",
              "</style>\n",
              "<table border=\"1\" class=\"dataframe\">\n",
              "  <thead>\n",
              "    <tr style=\"text-align: right;\">\n",
              "      <th></th>\n",
              "      <th>user_id</th>\n",
              "      <th>movie_id</th>\n",
              "      <th>rating</th>\n",
              "      <th>unix_timestamp</th>\n",
              "      <th>title</th>\n",
              "      <th>release_date</th>\n",
              "      <th>video_release_date</th>\n",
              "      <th>imdb_url</th>\n",
              "      <th>genre_unknown</th>\n",
              "      <th>Action</th>\n",
              "      <th>...</th>\n",
              "      <th>Fantasy</th>\n",
              "      <th>Film-Noir</th>\n",
              "      <th>Horror</th>\n",
              "      <th>Musical</th>\n",
              "      <th>Mystery</th>\n",
              "      <th>Romance</th>\n",
              "      <th>Sci-Fi</th>\n",
              "      <th>Thriller</th>\n",
              "      <th>War</th>\n",
              "      <th>Western</th>\n",
              "    </tr>\n",
              "  </thead>\n",
              "  <tbody>\n",
              "    <tr>\n",
              "      <th>0</th>\n",
              "      <td>308</td>\n",
              "      <td>1</td>\n",
              "      <td>4</td>\n",
              "      <td>887736532</td>\n",
              "      <td>Toy Story (1995)</td>\n",
              "      <td>01-Jan-1995</td>\n",
              "      <td>NaN</td>\n",
              "      <td>http://us.imdb.com/M/title-exact?Toy%20Story%2...</td>\n",
              "      <td>0</td>\n",
              "      <td>0</td>\n",
              "      <td>...</td>\n",
              "      <td>0</td>\n",
              "      <td>0</td>\n",
              "      <td>0</td>\n",
              "      <td>0</td>\n",
              "      <td>0</td>\n",
              "      <td>0</td>\n",
              "      <td>0</td>\n",
              "      <td>0</td>\n",
              "      <td>0</td>\n",
              "      <td>0</td>\n",
              "    </tr>\n",
              "    <tr>\n",
              "      <th>1</th>\n",
              "      <td>287</td>\n",
              "      <td>1</td>\n",
              "      <td>5</td>\n",
              "      <td>875334088</td>\n",
              "      <td>Toy Story (1995)</td>\n",
              "      <td>01-Jan-1995</td>\n",
              "      <td>NaN</td>\n",
              "      <td>http://us.imdb.com/M/title-exact?Toy%20Story%2...</td>\n",
              "      <td>0</td>\n",
              "      <td>0</td>\n",
              "      <td>...</td>\n",
              "      <td>0</td>\n",
              "      <td>0</td>\n",
              "      <td>0</td>\n",
              "      <td>0</td>\n",
              "      <td>0</td>\n",
              "      <td>0</td>\n",
              "      <td>0</td>\n",
              "      <td>0</td>\n",
              "      <td>0</td>\n",
              "      <td>0</td>\n",
              "    </tr>\n",
              "    <tr>\n",
              "      <th>2</th>\n",
              "      <td>148</td>\n",
              "      <td>1</td>\n",
              "      <td>4</td>\n",
              "      <td>877019411</td>\n",
              "      <td>Toy Story (1995)</td>\n",
              "      <td>01-Jan-1995</td>\n",
              "      <td>NaN</td>\n",
              "      <td>http://us.imdb.com/M/title-exact?Toy%20Story%2...</td>\n",
              "      <td>0</td>\n",
              "      <td>0</td>\n",
              "      <td>...</td>\n",
              "      <td>0</td>\n",
              "      <td>0</td>\n",
              "      <td>0</td>\n",
              "      <td>0</td>\n",
              "      <td>0</td>\n",
              "      <td>0</td>\n",
              "      <td>0</td>\n",
              "      <td>0</td>\n",
              "      <td>0</td>\n",
              "      <td>0</td>\n",
              "    </tr>\n",
              "    <tr>\n",
              "      <th>3</th>\n",
              "      <td>280</td>\n",
              "      <td>1</td>\n",
              "      <td>4</td>\n",
              "      <td>891700426</td>\n",
              "      <td>Toy Story (1995)</td>\n",
              "      <td>01-Jan-1995</td>\n",
              "      <td>NaN</td>\n",
              "      <td>http://us.imdb.com/M/title-exact?Toy%20Story%2...</td>\n",
              "      <td>0</td>\n",
              "      <td>0</td>\n",
              "      <td>...</td>\n",
              "      <td>0</td>\n",
              "      <td>0</td>\n",
              "      <td>0</td>\n",
              "      <td>0</td>\n",
              "      <td>0</td>\n",
              "      <td>0</td>\n",
              "      <td>0</td>\n",
              "      <td>0</td>\n",
              "      <td>0</td>\n",
              "      <td>0</td>\n",
              "    </tr>\n",
              "    <tr>\n",
              "      <th>4</th>\n",
              "      <td>66</td>\n",
              "      <td>1</td>\n",
              "      <td>3</td>\n",
              "      <td>883601324</td>\n",
              "      <td>Toy Story (1995)</td>\n",
              "      <td>01-Jan-1995</td>\n",
              "      <td>NaN</td>\n",
              "      <td>http://us.imdb.com/M/title-exact?Toy%20Story%2...</td>\n",
              "      <td>0</td>\n",
              "      <td>0</td>\n",
              "      <td>...</td>\n",
              "      <td>0</td>\n",
              "      <td>0</td>\n",
              "      <td>0</td>\n",
              "      <td>0</td>\n",
              "      <td>0</td>\n",
              "      <td>0</td>\n",
              "      <td>0</td>\n",
              "      <td>0</td>\n",
              "      <td>0</td>\n",
              "      <td>0</td>\n",
              "    </tr>\n",
              "  </tbody>\n",
              "</table>\n",
              "<p>5 rows × 27 columns</p>\n",
              "</div>"
            ],
            "text/plain": [
              "   user_id  movie_id  rating  unix_timestamp             title release_date  \\\n",
              "0      308         1       4       887736532  Toy Story (1995)  01-Jan-1995   \n",
              "1      287         1       5       875334088  Toy Story (1995)  01-Jan-1995   \n",
              "2      148         1       4       877019411  Toy Story (1995)  01-Jan-1995   \n",
              "3      280         1       4       891700426  Toy Story (1995)  01-Jan-1995   \n",
              "4       66         1       3       883601324  Toy Story (1995)  01-Jan-1995   \n",
              "\n",
              "   video_release_date                                           imdb_url  \\\n",
              "0                 NaN  http://us.imdb.com/M/title-exact?Toy%20Story%2...   \n",
              "1                 NaN  http://us.imdb.com/M/title-exact?Toy%20Story%2...   \n",
              "2                 NaN  http://us.imdb.com/M/title-exact?Toy%20Story%2...   \n",
              "3                 NaN  http://us.imdb.com/M/title-exact?Toy%20Story%2...   \n",
              "4                 NaN  http://us.imdb.com/M/title-exact?Toy%20Story%2...   \n",
              "\n",
              "   genre_unknown  Action  ...  Fantasy  Film-Noir  Horror  Musical  Mystery  \\\n",
              "0              0       0  ...        0          0       0        0        0   \n",
              "1              0       0  ...        0          0       0        0        0   \n",
              "2              0       0  ...        0          0       0        0        0   \n",
              "3              0       0  ...        0          0       0        0        0   \n",
              "4              0       0  ...        0          0       0        0        0   \n",
              "\n",
              "   Romance  Sci-Fi  Thriller  War  Western  \n",
              "0        0       0         0    0        0  \n",
              "1        0       0         0    0        0  \n",
              "2        0       0         0    0        0  \n",
              "3        0       0         0    0        0  \n",
              "4        0       0         0    0        0  \n",
              "\n",
              "[5 rows x 27 columns]"
            ]
          },
          "execution_count": 269,
          "metadata": {},
          "output_type": "execute_result"
        }
      ],
      "source": [
        "# Merge movies and ratings data\n",
        "movie_ratings_merged = pd.merge(ratings, movies, on=\"movie_id\", how=\"right\")\n",
        "movie_ratings_merged.head()"
      ]
    },
    {
      "cell_type": "markdown",
      "metadata": {
        "id": "_U44W0TMT3qf"
      },
      "source": [
        "As mentioned in the introduction, content-Based Filtering is a recommendation engine approach that focuses on the attributes or features of items (products, movies, music, articles, etc.) and leverages these features to make personalized recommendations. The underlying idea is to match the characteristics of items with the preferences of users to suggest items that align with their interests. Content-based filtering is particularly useful when explicit user-item interactions (e.g., ratings or purchases) are sparse or unavailable.\n",
        "\n",
        "**Key Steps in Content-Based Filtering:**\n",
        "\n",
        "1. **Feature Extraction:**\n",
        "   - For each item, relevant features are extracted. These features are typically descriptive attributes that can be represented numerically, such as genre, director, actors, author, publication date, and keywords.\n",
        "   - In the case of text-based items, natural language processing techniques may be used to extract features like TF-IDF (Term Frequency-Inverse Document Frequency) scores.\n",
        "\n",
        "2. **User Profile Creation:**\n",
        "   - A user profile is created based on the items they have interacted with in the past. The user profile contains the weighted importance of features based on their interactions.\n",
        "   - For example, if a user has watched several action movies, the action genre feature would receive a higher weight in their profile.\n",
        "\n",
        "3. **Similarity Calculation:**\n",
        "   - The similarity between items or between items and the user profile is calculated using similarity metrics like cosine similarity, Euclidean distance, or Pearson correlation.\n",
        "   - Cosine similarity is commonly used as it measures the cosine of the angle between two vectors, which represents their similarity.\n",
        "\n",
        "4. **Recommendation:**\n",
        "   - Items that are most similar to the user profile are recommended to the user. These are items whose features have the highest similarity scores with the user profile.\n",
        "   - The recommended items are presented as a list sorted by their similarity scores.\n",
        "\n",
        "**Advantages of Content-Based Filtering:**\n",
        "1. **No Cold-Start Problem:** Content-based filtering can make recommendations even for new users with no historical interactions because it relies on item features rather than user history.\n",
        "\n",
        "2. **User Independence:** The recommendations are based solely on the features of items and do not require knowledge of other users' preferences or behavior.\n",
        "\n",
        "3. **Transparency:** Content-based recommendations are interpretable, as they depend on the features of items, making it easier for users to understand why specific items are recommended.\n",
        "\n",
        "4. **Serendipity:** Content-based filtering can recommend items with characteristics not seen before by the user, leading to serendipitous discoveries.\n",
        "\n",
        "5. **Diversity in Recommendations:** The method can offer diverse recommendations since it suggests items with different feature combinations.\n",
        "\n",
        "**Limitations of Content-Based Filtering:**\n",
        "1. **Limited Discovery:** Content-based filtering may struggle to recommend items outside the scope of users' historical interactions or interests.\n",
        "\n",
        "2. **Over-Specialization:** Users may receive recommendations that are too similar to their previous choices, leading to a lack of exposure to new item categories.\n",
        "\n",
        "3. **Dependency on Feature Quality:** The quality and relevance of item features significantly influence the quality of recommendations.\n",
        "\n",
        "4. **Limited for Cold Items:** Content-based filtering can struggle to recommend new items with limited feature information."
      ]
    },
    {
      "cell_type": "markdown",
      "metadata": {
        "id": "sbJGD7j7Ui-8"
      },
      "source": [
        "Here is your task:\n",
        "\n",
        "1. Write a function that takes in a user id and the dataframe you created before that contains 'user_id', 'title', and 'rating'. The function should return content-based recommendations for this user. Here are steps you can take:\n",
        "\n",
        "  A. Get the user's rated movies\n",
        "\n",
        "  B. Create a TF-IDF matrix using movie genres. Note, this can be extracted from the `movies` dataframe.\n",
        "\n",
        "  C. Compute the cosine similarity between movie genres. Use the [cosine_similarity](https://scikit-learn.org/stable/modules/generated/sklearn.metrics.pairwise.cosine_similarity.html) function.\n",
        "\n",
        "  D. Get the indices of similar movies to those rated by the user based on cosine similarity. Keep only the top 5.\n",
        "\n",
        "  E. Remove duplicates and movies already rated by the user."
      ]
    },
    {
      "cell_type": "code",
      "execution_count": 277,
      "metadata": {
        "id": "JwBQSC-POTzn"
      },
      "outputs": [
        {
          "name": "stdout",
          "output_type": "stream",
          "text": [
            "['Billy Madison (1995)', 'Body Snatchers (1993)', 'Kama Sutra: A Tale of Love (1996)', 'Gay Divorcee, The (1934)', 'Twelve Monkeys (1995)']\n"
          ]
        }
      ],
      "source": [
        "def movie_rec(title, cosine_sim_df_ser):\n",
        "    # Instructions are to do top 5 before removing duplicates and already rated movies, so...\n",
        "    df_rec = cosine_sim_df_ser.nlargest(5)\n",
        "    # print(\"this is the title \" + title)s\n",
        "    # print(df_rec.head())\n",
        "    return df_rec\n",
        "\n",
        "\n",
        "def content_based_recommendation(id, df):\n",
        "    # Get the user's rated movies\n",
        "    user_df = df.loc[df[\"user_id\"] == id]\n",
        "    # print(df.head())\n",
        "    user_rated_movies = user_df[\"title\"].unique()\n",
        "\n",
        "    # Create a TF-IDF matrix using movie genres\n",
        "    tf_idf_matrix = movies.iloc[:, 8:]\n",
        "    # print(tf_idf_matrix.head())\n",
        "\n",
        "    # Compute the cosine similarity between movie genres\n",
        "    cosine_sim = cosine_similarity(tf_idf_matrix)\n",
        "    # Get the indices of the similar movies based on cosine similarity\n",
        "    # Note: This step doesn't make a lot of sense to me. Usually you'd do content based on a particular movie, not just 'any movie they've reviewed'\n",
        "    # Without at least counting what their ratings are, I'm not sure 'top 5' is well-defined.\n",
        "    cosine_sim_df = pd.DataFrame(cosine_sim, index=movies[\"title\"], columns=movies[\"title\"])\n",
        "    cosine_sim_df = cosine_sim_df.loc[:, ~cosine_sim_df.columns.duplicated()].copy()\n",
        "\n",
        "    # print(cosine_sim_df.head(1))\n",
        "    rec_list = []\n",
        "    for i in user_rated_movies:\n",
        "      rec_list.append(movie_rec(i, pd.Series(cosine_sim_df[i])).index.tolist())\n",
        "    # Flatten\n",
        "    rec_list = [x for xs in rec_list for x in xs]\n",
        "    # dupe removal\n",
        "    rec_list = list(set(rec_list))\n",
        "    # Remove movies already rated by the user\n",
        "    rec_list = [x for x in rec_list if x not in user_rated_movies]\n",
        "    #Strictly speaking instructions suggest pruning to 5 before doing duplicate checking, decided to do it here. \n",
        "    print(rec_list[:5])\n",
        "\n",
        "\n",
        "content_based_recommendation(22, movie_ratings_merged)"
      ]
    },
    {
      "cell_type": "markdown",
      "metadata": {
        "id": "2NNt3gHLYDxU"
      },
      "source": [
        "The key idea behind collaborative filtering is that users who have agreed in the past will likely agree in the future. Instead of relying on item attributes or user profiles, collaborative filtering identifies patterns of user behavior and item preferences from the interactions present in the data.\n",
        "\n",
        "**Types of Collaborative Filtering:**\n",
        "There are two main types of collaborative filtering:\n",
        "\n",
        "**Collaborative Filtering Process:**\n",
        "The collaborative filtering process typically involves the following steps:\n",
        "\n",
        "1. **Data Collection:**\n",
        "   - Gather data on user-item interactions, such as movie ratings, product purchases, or article clicks.\n",
        "\n",
        "2. **User-Item Matrix:**\n",
        "   - Organize the data into a user-item matrix, where rows represent users, columns represent items, and the entries contain the users' interactions (e.g., ratings).\n",
        "\n",
        "3. **Similarity Calculation:**\n",
        "   - Calculate the similarity between users or items using similarity metrics such as cosine similarity, Pearson correlation, or Jaccard similarity.\n",
        "   - For user-based collaborative filtering, user similarities are calculated, and for item-based collaborative filtering, item similarities are calculated.\n",
        "\n",
        "4. **Neighborhood Selection:**\n",
        "   - For each user or item, select the most similar users or items as the neighborhood.\n",
        "   - The size of the neighborhood (the number of similar users or items to consider) is an important parameter to control the system's behavior.\n",
        "\n",
        "5. **Prediction Generation:**\n",
        "   - Predict the ratings for items that the target user has not yet interacted with by combining the ratings of neighboring users or items.\n",
        "\n",
        "6. **Recommendation Generation:**\n",
        "   - Recommend items with the highest predicted ratings to the target user.\n",
        "\n",
        "**Advantages of Collaborative Filtering using User-Item Interactions:**\n",
        "- Collaborative filtering is based solely on user interactions and does not require knowledge of item attributes, making it useful for cases where item data is sparse or unavailable.\n",
        "- It can provide serendipitous recommendations, suggesting items that users may not have discovered on their own.\n",
        "- Collaborative filtering can be applied in various domains, including e-commerce, music, movie, and content recommendations.\n",
        "\n",
        "**Limitations of Collaborative Filtering:**\n",
        "- The cold-start problem: Collaborative filtering struggles to recommend to new users or items with no or limited interaction history.\n",
        "- It may suffer from sparsity when data is limited or when users have only interacted with a small subset of items.\n",
        "- Scalability issues can arise with large datasets and an increasing number of users or items."
      ]
    },
    {
      "cell_type": "markdown",
      "metadata": {
        "id": "ks4mWyCaYVNY"
      },
      "source": [
        "Here is your task:\n",
        "\n",
        "1. Write a function that takes in a user id and the dataframe you created before that contains 'user_id', 'title', and 'rating'. The function should return collaborative filtering recommendations for this user based on a user-item interaction matrix. Here are steps you can take:\n",
        "\n",
        "  A. Create the user-item matrix using Pandas' [pivot_table](https://pandas.pydata.org/docs/reference/api/pandas.pivot_table.html).\n",
        "\n",
        "  B. Fill missing values with zeros in this matrix.\n",
        "\n",
        "  C. Calculate user-user similarity matrix using cosine similarity.\n",
        "\n",
        "  D. Get the array of similarity scores of the target user with all other users from the similarity matrix.\n",
        "\n",
        "  E. Extract, say the the top 5 most similar users (excluding the target user).\n",
        "\n",
        "  F. Generate movie recommendations based on the most similar users.\n",
        "\n",
        "  G. Remove duplicate movies recommendations."
      ]
    },
    {
      "cell_type": "code",
      "execution_count": 350,
      "metadata": {
        "id": "BqZPgKRDWf-c"
      },
      "outputs": [],
      "source": [
        "# Collaborative Filtering using User-Item Interactions\n",
        "def collaborative_filtering_recommendation(user_id, df):\n",
        "    # Create the user-item matrix\n",
        "    movies_ratings_pivot = df.pivot_table(\n",
        "        values=\"rating\", index=\"user_id\", columns=\"title\"\n",
        "    )\n",
        "    # Fill missing values with 0 (indicating no rating)\n",
        "    movies_ratings_pivot.fillna(0, inplace=True)\n",
        "    # Calculate user-user similarity matrix using cosine similarity\n",
        "    #    cosine_sim_df = pd.DataFrame(cosine_sim, index=df[\"title\"], columns=df[\"title\"])\n",
        "\n",
        "    user_similarity = cosine_similarity(movies_ratings_pivot)\n",
        "    user_similarity[np.isnan(user_similarity)] = 0\n",
        "    user_similarity_df = pd.DataFrame(\n",
        "        user_similarity,\n",
        "        index=range(943),\n",
        "        columns=range(943),\n",
        "    )\n",
        "\n",
        "    # Get the similarity scores of the target user with all other users\n",
        "\n",
        "    targ_sim_df = user_similarity_df[user_id]\n",
        "\n",
        "    # Find the top N most similar users (excluding the target user)\n",
        "\n",
        "    similar = targ_sim_df.nlargest(5)\n",
        "\n",
        "    # Generate movie recommendations based on the most similar users\n",
        "    #For each of the 5 most similar users, grab their reviews from the dataframe\n",
        "    # Pick 5 (if available) highest reviewed for each, dot their review score into the similarity score, pick the top 5 of those\n",
        "\n",
        "    sim2 =similar.reset_index()\n",
        "    #print('user id' + str(sim2[user_id])) gives similarity scores\n",
        "    #print(sim2['index']) the relevant similar users' ids \n",
        "    weighted_reviews = pd.DataFrame({'rating': [0], 'title': ['Fake title']})\n",
        "    for i in range(len(sim2[user_id])):\n",
        "        #avoiding duplicates here instead of at the end\n",
        "        if sim2['index'][i] != user_id:\n",
        "            sim_user_reviews = df.loc[df['user_id'] == sim2['index'][i]]\n",
        "            sim_user_reviews = sim_user_reviews.nlargest(5, columns = 'rating', keep = 'first')\n",
        "            sim_user_reviews['rating'] = sim_user_reviews['rating']*sim2[user_id][i]\n",
        "            weighted_reviews = pd.concat([weighted_reviews, sim_user_reviews[['rating','title']]],axis=0)\n",
        "    return ((weighted_reviews.nlargest(5, columns='rating', keep='first'))['title'])\n",
        "\n",
        "\n",
        "\n",
        "    # Remove duplicates from recommendations"
      ]
    },
    {
      "cell_type": "markdown",
      "metadata": {
        "id": "-Jj883VAZRNe"
      },
      "source": [
        "Now, test your recommendations engines! Select a few user ids and generate recommendations using both functions you've written. Are the recommendations similar? Do the recommendations make sense?"
      ]
    },
    {
      "cell_type": "code",
      "execution_count": 351,
      "metadata": {
        "id": "kt9nuOTNJXz8"
      },
      "outputs": [
        {
          "name": "stdout",
          "output_type": "stream",
          "text": [
            "19207                                  Citizen Kane (1941)\n",
            "62987    Dr. Strangelove or: How I Learned to Stop Worr...\n",
            "63823                                       Vertigo (1958)\n",
            "64427                                    Casablanca (1942)\n",
            "64954                                  Sunset Blvd. (1950)\n",
            "Name: title, dtype: object\n",
            "['Billy Madison (1995)', 'Cinderella (1950)', 'Parent Trap, The (1961)', 'Body Snatchers (1993)', 'Six Degrees of Separation (1993)']\n",
            "None\n"
          ]
        }
      ],
      "source": [
        "# Test the recommendation engines\n",
        "\n",
        "print(collaborative_filtering_recommendation(62, movie_ratings_merged))\n",
        "print(content_based_recommendation(62, movie_ratings_merged))"
      ]
    }
  ],
  "metadata": {
    "colab": {
      "provenance": []
    },
    "kernelspec": {
      "display_name": "Python 3",
      "name": "python3"
    },
    "language_info": {
      "codemirror_mode": {
        "name": "ipython",
        "version": 3
      },
      "file_extension": ".py",
      "mimetype": "text/x-python",
      "name": "python",
      "nbconvert_exporter": "python",
      "pygments_lexer": "ipython3",
      "version": "3.11.1"
    }
  },
  "nbformat": 4,
  "nbformat_minor": 0
}
