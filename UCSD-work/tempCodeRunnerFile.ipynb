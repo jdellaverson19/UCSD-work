    print(user_rated_movies.head())
